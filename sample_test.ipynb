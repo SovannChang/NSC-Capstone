{
 "cells": [
  {
   "cell_type": "code",
   "execution_count": 20,
   "metadata": {},
   "outputs": [],
   "source": [
    "import pandas as pd\n",
    "import random"
   ]
  },
  {
   "cell_type": "code",
   "execution_count": 2,
   "metadata": {},
   "outputs": [],
   "source": [
    "## Load data\n",
    "nsc_posts = pd.read_csv('Reddit Data/nsc_posts_final.csv')"
   ]
  },
  {
   "cell_type": "code",
   "execution_count": 19,
   "metadata": {},
   "outputs": [
    {
     "data": {
      "text/html": [
       "<div>\n",
       "<style scoped>\n",
       "    .dataframe tbody tr th:only-of-type {\n",
       "        vertical-align: middle;\n",
       "    }\n",
       "\n",
       "    .dataframe tbody tr th {\n",
       "        vertical-align: top;\n",
       "    }\n",
       "\n",
       "    .dataframe thead th {\n",
       "        text-align: right;\n",
       "    }\n",
       "</style>\n",
       "<table border=\"1\" class=\"dataframe\">\n",
       "  <thead>\n",
       "    <tr style=\"text-align: right;\">\n",
       "      <th></th>\n",
       "      <th>Unnamed: 0</th>\n",
       "      <th>id</th>\n",
       "      <th>Title</th>\n",
       "      <th>Content</th>\n",
       "      <th>Author</th>\n",
       "      <th>Post Date</th>\n",
       "    </tr>\n",
       "  </thead>\n",
       "  <tbody>\n",
       "    <tr>\n",
       "      <th>3289</th>\n",
       "      <td>343</td>\n",
       "      <td>17dv2m6</td>\n",
       "      <td>Luke-warm take on last night’s game time</td>\n",
       "      <td>Me and my 12-week pregnant wife really liked t...</td>\n",
       "      <td>lax_mcfarty</td>\n",
       "      <td>2023-10-22 14:54:03</td>\n",
       "    </tr>\n",
       "    <tr>\n",
       "      <th>1937</th>\n",
       "      <td>937</td>\n",
       "      <td>y314n5</td>\n",
       "      <td>Head's Up: The playoff game against the Galaxy...</td>\n",
       "      <td>This Saturday at 2:00 PM is the playoff game a...</td>\n",
       "      <td>JAShock</td>\n",
       "      <td>2022-10-13 15:08:26</td>\n",
       "    </tr>\n",
       "    <tr>\n",
       "      <th>1386</th>\n",
       "      <td>386</td>\n",
       "      <td>1486n5v</td>\n",
       "      <td>First Timer</td>\n",
       "      <td>Question, im going to my first game this Satur...</td>\n",
       "      <td>MaterialRound1307</td>\n",
       "      <td>2023-06-13 04:42:07</td>\n",
       "    </tr>\n",
       "    <tr>\n",
       "      <th>3376</th>\n",
       "      <td>430</td>\n",
       "      <td>fmwnff</td>\n",
       "      <td>Interview with Nashville SC UK</td>\n",
       "      <td>NaN</td>\n",
       "      <td>boysesaaron</td>\n",
       "      <td>2020-03-22 08:28:36</td>\n",
       "    </tr>\n",
       "    <tr>\n",
       "      <th>61</th>\n",
       "      <td>61</td>\n",
       "      <td>k0iu0o</td>\n",
       "      <td>NASHVILLE SC [1] - 0 TORONTO - DANIEL RÍOS 107'</td>\n",
       "      <td>NaN</td>\n",
       "      <td>wolfhickey</td>\n",
       "      <td>2020-11-25 01:58:29</td>\n",
       "    </tr>\n",
       "  </tbody>\n",
       "</table>\n",
       "</div>"
      ],
      "text/plain": [
       "      Unnamed: 0       id                                              Title  \\\n",
       "3289         343  17dv2m6           Luke-warm take on last night’s game time   \n",
       "1937         937   y314n5  Head's Up: The playoff game against the Galaxy...   \n",
       "1386         386  1486n5v                                        First Timer   \n",
       "3376         430   fmwnff                     Interview with Nashville SC UK   \n",
       "61            61   k0iu0o    NASHVILLE SC [1] - 0 TORONTO - DANIEL RÍOS 107'   \n",
       "\n",
       "                                                Content             Author  \\\n",
       "3289  Me and my 12-week pregnant wife really liked t...        lax_mcfarty   \n",
       "1937  This Saturday at 2:00 PM is the playoff game a...            JAShock   \n",
       "1386  Question, im going to my first game this Satur...  MaterialRound1307   \n",
       "3376                                                NaN        boysesaaron   \n",
       "61                                                  NaN         wolfhickey   \n",
       "\n",
       "                Post Date  \n",
       "3289  2023-10-22 14:54:03  \n",
       "1937  2022-10-13 15:08:26  \n",
       "1386  2023-06-13 04:42:07  \n",
       "3376  2020-03-22 08:28:36  \n",
       "61    2020-11-25 01:58:29  "
      ]
     },
     "execution_count": 19,
     "metadata": {},
     "output_type": "execute_result"
    }
   ],
   "source": [
    "# If doing from dataframe\n",
    "samp = nsc_posts.sample(n = 20)\n",
    "samp.head()"
   ]
  },
  {
   "cell_type": "code",
   "execution_count": 23,
   "metadata": {},
   "outputs": [
    {
     "name": "stdout",
     "output_type": "stream",
     "text": [
      "Me and my 12-week pregnant wife really liked the 5pm kick-off last night. \n",
      "\n",
      "As a STH who lives just outside of Murfreesboro, 730 kickoffs can be brutal. Which is why I am soon to be an ex-STH. Nothing about the team or fun factor (though recent form has been lackluster) but sometimes the evening games are just not worth the travel. A mix would be lovely. \n",
      "\n",
      "Somebody wire the big-wigs up at MLS and AppleTV! I have spoken. And so shall it be.\n"
     ]
    }
   ],
   "source": [
    "print(samp['Content'].iloc[0])"
   ]
  },
  {
   "cell_type": "code",
   "execution_count": null,
   "metadata": {},
   "outputs": [],
   "source": [
    "# If doing from list\n",
    "samp = random.sample(#listname, k = 20)"
   ]
  }
 ],
 "metadata": {
  "kernelspec": {
   "display_name": "Python 3.9.13 ('base')",
   "language": "python",
   "name": "python3"
  },
  "language_info": {
   "codemirror_mode": {
    "name": "ipython",
    "version": 3
   },
   "file_extension": ".py",
   "mimetype": "text/x-python",
   "name": "python",
   "nbconvert_exporter": "python",
   "pygments_lexer": "ipython3",
   "version": "3.9.13"
  },
  "orig_nbformat": 4,
  "vscode": {
   "interpreter": {
    "hash": "5206b32b5f345ee646df70bcbe011cac435e70d5fa1022839ac50730ea7455ea"
   }
  }
 },
 "nbformat": 4,
 "nbformat_minor": 2
}
