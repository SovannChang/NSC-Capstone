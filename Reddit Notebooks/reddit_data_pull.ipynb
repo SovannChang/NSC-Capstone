{
 "cells": [
  {
   "cell_type": "markdown",
   "metadata": {},
   "source": [
    "# Reddit Data Pull\n",
    "> This notebook will be used to pull all of the data we will be using from Reddit. The notebook should only be run once and run time will need to be split up to not exceed the Reddit API query limits."
   ]
  },
  {
   "cell_type": "markdown",
   "metadata": {},
   "source": [
    "### Load libraries and set credentials"
   ]
  },
  {
   "cell_type": "code",
   "execution_count": 1,
   "metadata": {},
   "outputs": [],
   "source": [
    "import praw\n",
    "import pandas as pd\n",
    "from datetime import datetime\n",
    "\n",
    "reddit = praw.Reddit(\n",
    "    client_id='26fJ1hARXGStkyQSFA86qA',\n",
    "    client_secret='3ABsV91kHoBuz2O7wGNI6Fdb2CFN8w',\n",
    "    user_agent='Capstone_Project (by /u/kitconnelly)',\n",
    "    username='kitconnelly',\n",
    "    password='Yankees44$'\n",
    ")"
   ]
  },
  {
   "cell_type": "code",
   "execution_count": 2,
   "metadata": {},
   "outputs": [],
   "source": [
    "# Pull comments function\n",
    "def capture_comments(comment, comments_list, post_id, parent_id=None):\n",
    "\n",
    "    timestamp = datetime.utcfromtimestamp(comment.created_utc)\n",
    "\n",
    "    comments_list.append({\n",
    "        'Comment ID': comment.id,\n",
    "        'Parent Comment ID': parent_id,  # Store the parent comment ID\n",
    "        'Text': comment.body,\n",
    "        'Author': comment.author.name if comment.author else 'Unknown',\n",
    "        'Date': timestamp.strftime('%Y-%m-%d %H:%M:%S'),\n",
    "        'Post ID': post_id\n",
    "    })\n",
    "    \n",
    "    for reply in comment.replies:\n",
    "        capture_comments(reply, comments_list, post_id, parent_id=comment.id)  # Pass the parent comment ID"
   ]
  },
  {
   "cell_type": "markdown",
   "metadata": {},
   "source": [
    "## Subreddit - NashvilleSC\n",
    "- For the specified subreddit, the last 1000 posts (API limit) (eventually scaled up to this) will be pulled for each possible category.\n",
    "- Each individual pull will be stored in a dataframe incase an individual category (such as recent posts) is desired to be researched further.\n",
    "- At the end of the section, two large dataframes will be made for the subreddit (one for posts and one for comments).\n",
    "- These data frames can then be cleaned (removing '\\n' and emojis) as well as have duplicate rows removed (based on post id for posts, combo of comment id's other).\n",
    "\n",
    "NOTE: Matchday threads by SportsThreadderBot will need to be filtered out"
   ]
  },
  {
   "cell_type": "markdown",
   "metadata": {},
   "source": [
    "#### Top Posts"
   ]
  },
  {
   "cell_type": "code",
   "execution_count": 3,
   "metadata": {},
   "outputs": [],
   "source": [
    "subreddit = reddit.subreddit(\"NashvilleSC\")\n",
    "posts = subreddit.top(limit=10)\n",
    "\n",
    "# Initialize a list to store comments for all top posts\n",
    "all_comments = []\n",
    "\n",
    "# List for post data frame\n",
    "ids = []\n",
    "titles = []\n",
    "contents = []\n",
    "authors = []\n",
    "post_dates = []\n",
    "\n",
    "# Iterate through the top posts\n",
    "for post in posts:\n",
    "    post.comments.replace_more(limit=None)  # Retrieve all comments including hidden ones\n",
    "\n",
    "    post_id = post.id\n",
    "\n",
    "    ids.append(post_id)\n",
    "    titles.append(post.title)\n",
    "    contents.append(post.selftext)\n",
    "    authors.append(post.author.name if post.author else 'Unknown')\n",
    "    post_dates.append(datetime.utcfromtimestamp(post.created_utc).strftime('%Y-%m-%d %H:%M:%S'))\n",
    "    \n",
    "    # Capture comments for each post\n",
    "    for top_level_comment in post.comments:\n",
    "        capture_comments(top_level_comment, all_comments, post_id)\n",
    "\n",
    "# Create a Pandas DataFrame from the flattened comments data\n",
    "nsc_top_comments_df = pd.DataFrame(all_comments)\n",
    "nsc_top_posts_dict = {'id': ids, 'Title': titles, 'Content': contents, 'Author': authors, 'Post Date': post_dates}\n",
    "nsc_top_posts_df = pd.DataFrame(nsc_top_posts_dict)"
   ]
  },
  {
   "cell_type": "markdown",
   "metadata": {},
   "source": [
    "#### New posts"
   ]
  },
  {
   "cell_type": "code",
   "execution_count": 4,
   "metadata": {},
   "outputs": [],
   "source": [
    "posts = subreddit.new(limit=10)\n",
    "\n",
    "# Initialize a list to store comments for all top posts\n",
    "all_comments = []\n",
    "\n",
    "# List for post data frame\n",
    "ids = []\n",
    "titles = []\n",
    "contents = []\n",
    "authors = []\n",
    "post_dates = []\n",
    "\n",
    "# Iterate through the top posts\n",
    "for post in posts:\n",
    "    post.comments.replace_more(limit=None)  # Retrieve all comments including hidden ones\n",
    "\n",
    "    post_id = post.id\n",
    "\n",
    "    ids.append(post_id)\n",
    "    titles.append(post.title)\n",
    "    contents.append(post.selftext)\n",
    "    authors.append(post.author.name if post.author else 'Unknown')\n",
    "    post_dates.append(datetime.utcfromtimestamp(post.created_utc).strftime('%Y-%m-%d %H:%M:%S'))\n",
    "    \n",
    "    # Capture comments for each post\n",
    "    for top_level_comment in post.comments:\n",
    "        capture_comments(top_level_comment, all_comments, post_id)\n",
    "\n",
    "# Create a Pandas DataFrame from the flattened comments data\n",
    "nsc_new_comments_df = pd.DataFrame(all_comments)\n",
    "nsc_new_posts_dict = {'id': ids, 'Title': titles, 'Content': contents, 'Author': authors, 'Post Date': post_dates}\n",
    "nsc_new_posts_df = pd.DataFrame(nsc_new_posts_dict)"
   ]
  },
  {
   "cell_type": "markdown",
   "metadata": {},
   "source": [
    "#### Hot posts"
   ]
  },
  {
   "cell_type": "code",
   "execution_count": 5,
   "metadata": {},
   "outputs": [],
   "source": [
    "posts = subreddit.hot(limit=10)\n",
    "\n",
    "# Initialize a list to store comments for all top posts\n",
    "all_comments = []\n",
    "\n",
    "# List for post data frame\n",
    "ids = []\n",
    "titles = []\n",
    "contents = []\n",
    "authors = []\n",
    "post_dates = []\n",
    "\n",
    "# Iterate through the top posts\n",
    "for post in posts:\n",
    "    post.comments.replace_more(limit=None)  # Retrieve all comments including hidden ones\n",
    "\n",
    "    post_id = post.id\n",
    "\n",
    "    ids.append(post_id)\n",
    "    titles.append(post.title)\n",
    "    contents.append(post.selftext)\n",
    "    authors.append(post.author.name if post.author else 'Unknown')\n",
    "    post_dates.append(datetime.utcfromtimestamp(post.created_utc).strftime('%Y-%m-%d %H:%M:%S'))\n",
    "    \n",
    "    # Capture comments for each post\n",
    "    for top_level_comment in post.comments:\n",
    "        capture_comments(top_level_comment, all_comments, post_id)\n",
    "\n",
    "# Create a Pandas DataFrame from the flattened comments data\n",
    "nsc_hot_comments_df = pd.DataFrame(all_comments)\n",
    "nsc_hot_posts_dict = {'id': ids, 'Title': titles, 'Content': contents, 'Author': authors, 'Post Date': post_dates}\n",
    "nsc_hot_posts_df = pd.DataFrame(nsc_hot_posts_dict)"
   ]
  },
  {
   "cell_type": "markdown",
   "metadata": {},
   "source": [
    "#### Rising posts"
   ]
  },
  {
   "cell_type": "code",
   "execution_count": 6,
   "metadata": {},
   "outputs": [],
   "source": [
    "posts = subreddit.rising(limit=10)\n",
    "\n",
    "# Initialize a list to store comments for all top posts\n",
    "all_comments = []\n",
    "\n",
    "# List for post data frame\n",
    "ids = []\n",
    "titles = []\n",
    "contents = []\n",
    "authors = []\n",
    "post_dates = []\n",
    "\n",
    "# Iterate through the top posts\n",
    "for post in posts:\n",
    "    post.comments.replace_more(limit=None)  # Retrieve all comments including hidden ones\n",
    "\n",
    "    post_id = post.id\n",
    "\n",
    "    ids.append(post_id)\n",
    "    titles.append(post.title)\n",
    "    contents.append(post.selftext)\n",
    "    authors.append(post.author.name if post.author else 'Unknown')\n",
    "    post_dates.append(datetime.utcfromtimestamp(post.created_utc).strftime('%Y-%m-%d %H:%M:%S'))\n",
    "    \n",
    "    # Capture comments for each post\n",
    "    for top_level_comment in post.comments:\n",
    "        capture_comments(top_level_comment, all_comments, post_id)\n",
    "\n",
    "# Create a Pandas DataFrame from the flattened comments data\n",
    "nsc_rising_comments_df = pd.DataFrame(all_comments)\n",
    "nsc_rising_posts_dict = {'id': ids, 'Title': titles, 'Content': contents, 'Author': authors, 'Post Date': post_dates}\n",
    "nsc_rising_posts_df = pd.DataFrame(nsc_rising_posts_dict)"
   ]
  },
  {
   "cell_type": "markdown",
   "metadata": {},
   "source": [
    "#### Controversial Posts"
   ]
  },
  {
   "cell_type": "code",
   "execution_count": 7,
   "metadata": {},
   "outputs": [],
   "source": [
    "posts = subreddit.controversial(limit=10)\n",
    "\n",
    "# Initialize a list to store comments for all top posts\n",
    "all_comments = []\n",
    "\n",
    "# List for post data frame\n",
    "ids = []\n",
    "titles = []\n",
    "contents = []\n",
    "authors = []\n",
    "post_dates = []\n",
    "\n",
    "# Iterate through the top posts\n",
    "for post in posts:\n",
    "    post.comments.replace_more(limit=None)  # Retrieve all comments including hidden ones\n",
    "\n",
    "    post_id = post.id\n",
    "\n",
    "    ids.append(post_id)\n",
    "    titles.append(post.title)\n",
    "    contents.append(post.selftext)\n",
    "    authors.append(post.author.name if post.author else 'Unknown')\n",
    "    post_dates.append(datetime.utcfromtimestamp(post.created_utc).strftime('%Y-%m-%d %H:%M:%S'))\n",
    "    \n",
    "    # Capture comments for each post\n",
    "    for top_level_comment in post.comments:\n",
    "        capture_comments(top_level_comment, all_comments, post_id)\n",
    "\n",
    "# Create a Pandas DataFrame from the flattened comments data\n",
    "nsc_controversial_comments_df = pd.DataFrame(all_comments)\n",
    "nsc_controversial_posts_dict = {'id': ids, 'Title': titles, 'Content': contents, 'Author': authors, 'Post Date': post_dates}\n",
    "nsc_controversial_posts_df = pd.DataFrame(nsc_controversial_posts_dict)"
   ]
  },
  {
   "cell_type": "markdown",
   "metadata": {},
   "source": [
    "#### Concatenating into 1 data frame"
   ]
  },
  {
   "cell_type": "code",
   "execution_count": 8,
   "metadata": {},
   "outputs": [],
   "source": [
    "nsc_posts = pd.concat([nsc_top_posts_df, nsc_new_posts_df, nsc_hot_posts_df, nsc_rising_posts_df, nsc_controversial_posts_df])\n",
    "nsc_comments = pd.concat([nsc_top_comments_df, nsc_new_comments_df, nsc_hot_comments_df, nsc_rising_comments_df, nsc_controversial_comments_df])"
   ]
  },
  {
   "cell_type": "code",
   "execution_count": 9,
   "metadata": {},
   "outputs": [
    {
     "data": {
      "text/plain": [
       "((50, 5), (1190, 6))"
      ]
     },
     "execution_count": 9,
     "metadata": {},
     "output_type": "execute_result"
    }
   ],
   "source": [
    "nsc_posts.shape, nsc_comments.shape"
   ]
  },
  {
   "cell_type": "markdown",
   "metadata": {},
   "source": [
    "## Subreddit - Tennesseetitans\n",
    "- For the specified subreddit, the last 1000 posts (API limit) (eventually scaled up to this) will be pulled for each possible category.\n",
    "- Each individual pull will be stored in a dataframe incase an individual category (such as recent posts) is desired to be researched further.\n",
    "- At the end of the section, two large dataframes will be made for the subreddit (one for posts and one for comments).\n",
    "- These data frames can then be cleaned (removing '\\n' and emojis) as well as have duplicate rows removed (based on post id for posts, combo of comment id's other).\n",
    "\n",
    "NOTE: Gameday threads posted by Titans_Mod will need to be filtered out before pulling"
   ]
  },
  {
   "cell_type": "markdown",
   "metadata": {},
   "source": [
    "#### Top Posts"
   ]
  },
  {
   "cell_type": "code",
   "execution_count": 10,
   "metadata": {},
   "outputs": [],
   "source": [
    "subreddit = reddit.subreddit(\"Tennesseetitans\")\n",
    "posts = subreddit.top(limit=10)\n",
    "\n",
    "# Initialize a list to store comments for all top posts\n",
    "all_comments = []\n",
    "\n",
    "# List for post data frame\n",
    "ids = []\n",
    "titles = []\n",
    "contents = []\n",
    "authors = []\n",
    "post_dates = []\n",
    "\n",
    "# Iterate through the top posts\n",
    "for post in posts:\n",
    "    post.comments.replace_more(limit=None)  # Retrieve all comments including hidden ones\n",
    "\n",
    "    post_id = post.id\n",
    "\n",
    "    ids.append(post_id)\n",
    "    titles.append(post.title)\n",
    "    contents.append(post.selftext)\n",
    "    authors.append(post.author.name if post.author else 'Unknown')\n",
    "    post_dates.append(datetime.utcfromtimestamp(post.created_utc).strftime('%Y-%m-%d %H:%M:%S'))\n",
    "    \n",
    "    # Capture comments for each post\n",
    "    for top_level_comment in post.comments:\n",
    "        capture_comments(top_level_comment, all_comments, post_id)\n",
    "\n",
    "# Create a Pandas DataFrame from the flattened comments data\n",
    "tt_top_comments_df = pd.DataFrame(all_comments)\n",
    "tt_top_posts_dict = {'id': ids, 'Title': titles, 'Content': contents, 'Author': authors, 'Post Date': post_dates}\n",
    "tt_top_posts_df = pd.DataFrame(tt_top_posts_dict)"
   ]
  },
  {
   "cell_type": "markdown",
   "metadata": {},
   "source": [
    "#### New Posts"
   ]
  },
  {
   "cell_type": "code",
   "execution_count": 11,
   "metadata": {},
   "outputs": [],
   "source": [
    "posts = subreddit.new(limit=10)\n",
    "\n",
    "# Initialize a list to store comments for all top posts\n",
    "all_comments = []\n",
    "\n",
    "# List for post data frame\n",
    "ids = []\n",
    "titles = []\n",
    "contents = []\n",
    "authors = []\n",
    "post_dates = []\n",
    "\n",
    "# Iterate through the top posts\n",
    "for post in posts:\n",
    "    post.comments.replace_more(limit=None)  # Retrieve all comments including hidden ones\n",
    "\n",
    "    post_id = post.id\n",
    "\n",
    "    ids.append(post_id)\n",
    "    titles.append(post.title)\n",
    "    contents.append(post.selftext)\n",
    "    authors.append(post.author.name if post.author else 'Unknown')\n",
    "    post_dates.append(datetime.utcfromtimestamp(post.created_utc).strftime('%Y-%m-%d %H:%M:%S'))\n",
    "    \n",
    "    # Capture comments for each post\n",
    "    for top_level_comment in post.comments:\n",
    "        capture_comments(top_level_comment, all_comments, post_id)\n",
    "\n",
    "# Create a Pandas DataFrame from the flattened comments data\n",
    "tt_new_comments_df = pd.DataFrame(all_comments)\n",
    "tt_new_posts_dict = {'id': ids, 'Title': titles, 'Content': contents, 'Author': authors, 'Post Date': post_dates}\n",
    "tt_new_posts_df = pd.DataFrame(tt_new_posts_dict)"
   ]
  },
  {
   "cell_type": "markdown",
   "metadata": {},
   "source": [
    "#### Hot Posts"
   ]
  },
  {
   "cell_type": "code",
   "execution_count": 12,
   "metadata": {},
   "outputs": [],
   "source": [
    "posts = subreddit.hot(limit=10)\n",
    "\n",
    "# Initialize a list to store comments for all top posts\n",
    "all_comments = []\n",
    "\n",
    "# List for post data frame\n",
    "ids = []\n",
    "titles = []\n",
    "contents = []\n",
    "authors = []\n",
    "post_dates = []\n",
    "\n",
    "# Iterate through the top posts\n",
    "for post in posts:\n",
    "    post.comments.replace_more(limit=None)  # Retrieve all comments including hidden ones\n",
    "\n",
    "    post_id = post.id\n",
    "\n",
    "    ids.append(post_id)\n",
    "    titles.append(post.title)\n",
    "    contents.append(post.selftext)\n",
    "    authors.append(post.author.name if post.author else 'Unknown')\n",
    "    post_dates.append(datetime.utcfromtimestamp(post.created_utc).strftime('%Y-%m-%d %H:%M:%S'))\n",
    "    \n",
    "    # Capture comments for each post\n",
    "    for top_level_comment in post.comments:\n",
    "        capture_comments(top_level_comment, all_comments, post_id)\n",
    "\n",
    "# Create a Pandas DataFrame from the flattened comments data\n",
    "tt_hot_comments_df = pd.DataFrame(all_comments)\n",
    "tt_hot_posts_dict = {'id': ids, 'Title': titles, 'Content': contents, 'Author': authors, 'Post Date': post_dates}\n",
    "tt_hot_posts_df = pd.DataFrame(tt_hot_posts_dict)"
   ]
  },
  {
   "cell_type": "markdown",
   "metadata": {},
   "source": [
    "#### Rising Posts"
   ]
  },
  {
   "cell_type": "code",
   "execution_count": 13,
   "metadata": {},
   "outputs": [],
   "source": [
    "posts = subreddit.rising(limit=10)\n",
    "\n",
    "# Initialize a list to store comments for all top posts\n",
    "all_comments = []\n",
    "\n",
    "# List for post data frame\n",
    "ids = []\n",
    "titles = []\n",
    "contents = []\n",
    "authors = []\n",
    "post_dates = []\n",
    "\n",
    "# Iterate through the top posts\n",
    "for post in posts:\n",
    "    post.comments.replace_more(limit=None)  # Retrieve all comments including hidden ones\n",
    "\n",
    "    post_id = post.id\n",
    "\n",
    "    ids.append(post_id)\n",
    "    titles.append(post.title)\n",
    "    contents.append(post.selftext)\n",
    "    authors.append(post.author.name if post.author else 'Unknown')\n",
    "    post_dates.append(datetime.utcfromtimestamp(post.created_utc).strftime('%Y-%m-%d %H:%M:%S'))\n",
    "    \n",
    "    # Capture comments for each post\n",
    "    for top_level_comment in post.comments:\n",
    "        capture_comments(top_level_comment, all_comments, post_id)\n",
    "\n",
    "# Create a Pandas DataFrame from the flattened comments data\n",
    "tt_rising_comments_df = pd.DataFrame(all_comments)\n",
    "tt_rising_posts_dict = {'id': ids, 'Title': titles, 'Content': contents, 'Author': authors, 'Post Date': post_dates}\n",
    "tt_rising_posts_df = pd.DataFrame(tt_rising_posts_dict)"
   ]
  },
  {
   "cell_type": "markdown",
   "metadata": {},
   "source": [
    "#### Controversial Posts"
   ]
  },
  {
   "cell_type": "code",
   "execution_count": 14,
   "metadata": {},
   "outputs": [],
   "source": [
    "posts = subreddit.controversial(limit=10)\n",
    "\n",
    "# Initialize a list to store comments for all top posts\n",
    "all_comments = []\n",
    "\n",
    "# List for post data frame\n",
    "ids = []\n",
    "titles = []\n",
    "contents = []\n",
    "authors = []\n",
    "post_dates = []\n",
    "\n",
    "# Iterate through the top posts\n",
    "for post in posts:\n",
    "    post.comments.replace_more(limit=None)  # Retrieve all comments including hidden ones\n",
    "\n",
    "    post_id = post.id\n",
    "\n",
    "    ids.append(post_id)\n",
    "    titles.append(post.title)\n",
    "    contents.append(post.selftext)\n",
    "    authors.append(post.author.name if post.author else 'Unknown')\n",
    "    post_dates.append(datetime.utcfromtimestamp(post.created_utc).strftime('%Y-%m-%d %H:%M:%S'))\n",
    "    \n",
    "    # Capture comments for each post\n",
    "    for top_level_comment in post.comments:\n",
    "        capture_comments(top_level_comment, all_comments, post_id)\n",
    "\n",
    "# Create a Pandas DataFrame from the flattened comments data\n",
    "tt_controversial_comments_df = pd.DataFrame(all_comments)\n",
    "tt_controversial_posts_dict = {'id': ids, 'Title': titles, 'Content': contents, 'Author': authors, 'Post Date': post_dates}\n",
    "tt_controversial_posts_df = pd.DataFrame(tt_controversial_posts_dict)"
   ]
  },
  {
   "cell_type": "markdown",
   "metadata": {},
   "source": [
    "#### Concatenating into 1 data frame"
   ]
  },
  {
   "cell_type": "code",
   "execution_count": 15,
   "metadata": {},
   "outputs": [],
   "source": [
    "tt_posts = pd.concat([tt_top_posts_df, tt_new_posts_df, tt_hot_posts_df, tt_rising_posts_df, tt_controversial_posts_df])\n",
    "tt_comments = pd.concat([tt_top_comments_df, tt_new_comments_df, tt_hot_comments_df, tt_rising_comments_df, tt_controversial_comments_df])"
   ]
  },
  {
   "cell_type": "code",
   "execution_count": 16,
   "metadata": {},
   "outputs": [
    {
     "data": {
      "text/plain": [
       "((50, 5), (5918, 6))"
      ]
     },
     "execution_count": 16,
     "metadata": {},
     "output_type": "execute_result"
    }
   ],
   "source": [
    "tt_posts.shape, tt_comments.shape"
   ]
  },
  {
   "cell_type": "markdown",
   "metadata": {},
   "source": [
    "## Subreddit - Predators\n",
    "- For the specified subreddit, the last 1000 posts (API limit) (eventually scaled up to this) will be pulled for each possible category.\n",
    "- Each individual pull will be stored in a dataframe incase an individual category (such as recent posts) is desired to be researched further.\n",
    "- At the end of the section, two large dataframes will be made for the subreddit (one for posts and one for comments).\n",
    "- These data frames can then be cleaned (removing '\\n' and emojis) as well as have duplicate rows removed (based on post id for posts, combo of comment id's other)."
   ]
  },
  {
   "cell_type": "markdown",
   "metadata": {},
   "source": [
    "#### Top Posts"
   ]
  },
  {
   "cell_type": "code",
   "execution_count": 17,
   "metadata": {},
   "outputs": [],
   "source": [
    "subreddit = reddit.subreddit(\"Predators\")\n",
    "posts = subreddit.top(limit=10)\n",
    "\n",
    "# Initialize a list to store comments for all top posts\n",
    "all_comments = []\n",
    "\n",
    "# List for post data frame\n",
    "ids = []\n",
    "titles = []\n",
    "contents = []\n",
    "authors = []\n",
    "post_dates = []\n",
    "\n",
    "# Iterate through the top posts\n",
    "for post in posts:\n",
    "    post.comments.replace_more(limit=None)  # Retrieve all comments including hidden ones\n",
    "\n",
    "    post_id = post.id\n",
    "\n",
    "    ids.append(post_id)\n",
    "    titles.append(post.title)\n",
    "    contents.append(post.selftext)\n",
    "    authors.append(post.author.name if post.author else 'Unknown')\n",
    "    post_dates.append(datetime.utcfromtimestamp(post.created_utc).strftime('%Y-%m-%d %H:%M:%S'))\n",
    "    \n",
    "    # Capture comments for each post\n",
    "    for top_level_comment in post.comments:\n",
    "        capture_comments(top_level_comment, all_comments, post_id)\n",
    "\n",
    "# Create a Pandas DataFrame from the flattened comments data\n",
    "preds_top_comments_df = pd.DataFrame(all_comments)\n",
    "preds_top_posts_dict = {'id': ids, 'Title': titles, 'Content': contents, 'Author': authors, 'Post Date': post_dates}\n",
    "preds_top_posts_df = pd.DataFrame(preds_top_posts_dict)"
   ]
  },
  {
   "cell_type": "markdown",
   "metadata": {},
   "source": [
    "#### New Posts"
   ]
  },
  {
   "cell_type": "code",
   "execution_count": 18,
   "metadata": {},
   "outputs": [],
   "source": [
    "posts = subreddit.new(limit=10)\n",
    "\n",
    "# Initialize a list to store comments for all top posts\n",
    "all_comments = []\n",
    "\n",
    "# List for post data frame\n",
    "ids = []\n",
    "titles = []\n",
    "contents = []\n",
    "authors = []\n",
    "post_dates = []\n",
    "\n",
    "# Iterate through the top posts\n",
    "for post in posts:\n",
    "    post.comments.replace_more(limit=None)  # Retrieve all comments including hidden ones\n",
    "\n",
    "    post_id = post.id\n",
    "\n",
    "    ids.append(post_id)\n",
    "    titles.append(post.title)\n",
    "    contents.append(post.selftext)\n",
    "    authors.append(post.author.name if post.author else 'Unknown')\n",
    "    post_dates.append(datetime.utcfromtimestamp(post.created_utc).strftime('%Y-%m-%d %H:%M:%S'))\n",
    "    \n",
    "    # Capture comments for each post\n",
    "    for top_level_comment in post.comments:\n",
    "        capture_comments(top_level_comment, all_comments, post_id)\n",
    "\n",
    "# Create a Pandas DataFrame from the flattened comments data\n",
    "preds_new_comments_df = pd.DataFrame(all_comments)\n",
    "preds_new_posts_dict = {'id': ids, 'Title': titles, 'Content': contents, 'Author': authors, 'Post Date': post_dates}\n",
    "preds_new_posts_df = pd.DataFrame(preds_new_posts_dict)"
   ]
  },
  {
   "cell_type": "markdown",
   "metadata": {},
   "source": [
    "#### Hot Posts"
   ]
  },
  {
   "cell_type": "code",
   "execution_count": 19,
   "metadata": {},
   "outputs": [],
   "source": [
    "posts = subreddit.hot(limit=10)\n",
    "\n",
    "# Initialize a list to store comments for all top posts\n",
    "all_comments = []\n",
    "\n",
    "# List for post data frame\n",
    "ids = []\n",
    "titles = []\n",
    "contents = []\n",
    "authors = []\n",
    "post_dates = []\n",
    "\n",
    "# Iterate through the top posts\n",
    "for post in posts:\n",
    "    post.comments.replace_more(limit=None)  # Retrieve all comments including hidden ones\n",
    "\n",
    "    post_id = post.id\n",
    "\n",
    "    ids.append(post_id)\n",
    "    titles.append(post.title)\n",
    "    contents.append(post.selftext)\n",
    "    authors.append(post.author.name if post.author else 'Unknown')\n",
    "    post_dates.append(datetime.utcfromtimestamp(post.created_utc).strftime('%Y-%m-%d %H:%M:%S'))\n",
    "    \n",
    "    # Capture comments for each post\n",
    "    for top_level_comment in post.comments:\n",
    "        capture_comments(top_level_comment, all_comments, post_id)\n",
    "\n",
    "# Create a Pandas DataFrame from the flattened comments data\n",
    "preds_hot_comments_df = pd.DataFrame(all_comments)\n",
    "preds_hot_posts_dict = {'id': ids, 'Title': titles, 'Content': contents, 'Author': authors, 'Post Date': post_dates}\n",
    "preds_hot_posts_df = pd.DataFrame(preds_hot_posts_dict)"
   ]
  },
  {
   "cell_type": "markdown",
   "metadata": {},
   "source": [
    "#### Rising Posts"
   ]
  },
  {
   "cell_type": "code",
   "execution_count": 20,
   "metadata": {},
   "outputs": [],
   "source": [
    "posts = subreddit.rising(limit=10)\n",
    "\n",
    "# Initialize a list to store comments for all top posts\n",
    "all_comments = []\n",
    "\n",
    "# List for post data frame\n",
    "ids = []\n",
    "titles = []\n",
    "contents = []\n",
    "authors = []\n",
    "post_dates = []\n",
    "\n",
    "# Iterate through the top posts\n",
    "for post in posts:\n",
    "    post.comments.replace_more(limit=None)  # Retrieve all comments including hidden ones\n",
    "\n",
    "    post_id = post.id\n",
    "\n",
    "    ids.append(post_id)\n",
    "    titles.append(post.title)\n",
    "    contents.append(post.selftext)\n",
    "    authors.append(post.author.name if post.author else 'Unknown')\n",
    "    post_dates.append(datetime.utcfromtimestamp(post.created_utc).strftime('%Y-%m-%d %H:%M:%S'))\n",
    "    \n",
    "    # Capture comments for each post\n",
    "    for top_level_comment in post.comments:\n",
    "        capture_comments(top_level_comment, all_comments, post_id)\n",
    "\n",
    "# Create a Pandas DataFrame from the flattened comments data\n",
    "preds_rising_comments_df = pd.DataFrame(all_comments)\n",
    "preds_rising_posts_dict = {'id': ids, 'Title': titles, 'Content': contents, 'Author': authors, 'Post Date': post_dates}\n",
    "preds_rising_posts_df = pd.DataFrame(preds_rising_posts_dict)"
   ]
  },
  {
   "cell_type": "markdown",
   "metadata": {},
   "source": [
    "#### Controversial Posts"
   ]
  },
  {
   "cell_type": "code",
   "execution_count": 21,
   "metadata": {},
   "outputs": [],
   "source": [
    "posts = subreddit.controversial(limit=10)\n",
    "\n",
    "# Initialize a list to store comments for all top posts\n",
    "all_comments = []\n",
    "\n",
    "# List for post data frame\n",
    "ids = []\n",
    "titles = []\n",
    "contents = []\n",
    "authors = []\n",
    "post_dates = []\n",
    "\n",
    "# Iterate through the top posts\n",
    "for post in posts:\n",
    "    post.comments.replace_more(limit=None)  # Retrieve all comments including hidden ones\n",
    "\n",
    "    post_id = post.id\n",
    "\n",
    "    ids.append(post_id)\n",
    "    titles.append(post.title)\n",
    "    contents.append(post.selftext)\n",
    "    authors.append(post.author.name if post.author else 'Unknown')\n",
    "    post_dates.append(datetime.utcfromtimestamp(post.created_utc).strftime('%Y-%m-%d %H:%M:%S'))\n",
    "    \n",
    "    # Capture comments for each post\n",
    "    for top_level_comment in post.comments:\n",
    "        capture_comments(top_level_comment, all_comments, post_id)\n",
    "\n",
    "# Create a Pandas DataFrame from the flattened comments data\n",
    "preds_controversial_comments_df = pd.DataFrame(all_comments)\n",
    "preds_controversial_posts_dict = {'id': ids, 'Title': titles, 'Content': contents, 'Author': authors, 'Post Date': post_dates}\n",
    "preds_controversial_posts_df = pd.DataFrame(preds_controversial_posts_dict)"
   ]
  },
  {
   "cell_type": "markdown",
   "metadata": {},
   "source": [
    "#### Concatenating into 1 data frame"
   ]
  },
  {
   "cell_type": "code",
   "execution_count": 22,
   "metadata": {},
   "outputs": [],
   "source": [
    "preds_posts = pd.concat([preds_top_posts_df, preds_new_posts_df, preds_hot_posts_df, preds_rising_posts_df, preds_controversial_posts_df])\n",
    "preds_comments = pd.concat([preds_top_comments_df, preds_new_comments_df, preds_hot_comments_df, preds_rising_comments_df, preds_controversial_comments_df])"
   ]
  },
  {
   "cell_type": "code",
   "execution_count": 23,
   "metadata": {},
   "outputs": [
    {
     "data": {
      "text/plain": [
       "((50, 5), (1876, 6))"
      ]
     },
     "execution_count": 23,
     "metadata": {},
     "output_type": "execute_result"
    }
   ],
   "source": [
    "preds_posts.shape, preds_comments.shape"
   ]
  },
  {
   "cell_type": "code",
   "execution_count": 24,
   "metadata": {},
   "outputs": [
    {
     "data": {
      "text/html": [
       "<div>\n",
       "<style scoped>\n",
       "    .dataframe tbody tr th:only-of-type {\n",
       "        vertical-align: middle;\n",
       "    }\n",
       "\n",
       "    .dataframe tbody tr th {\n",
       "        vertical-align: top;\n",
       "    }\n",
       "\n",
       "    .dataframe thead th {\n",
       "        text-align: right;\n",
       "    }\n",
       "</style>\n",
       "<table border=\"1\" class=\"dataframe\">\n",
       "  <thead>\n",
       "    <tr style=\"text-align: right;\">\n",
       "      <th></th>\n",
       "      <th>id</th>\n",
       "      <th>Title</th>\n",
       "      <th>Content</th>\n",
       "      <th>Author</th>\n",
       "      <th>Post Date</th>\n",
       "    </tr>\n",
       "  </thead>\n",
       "  <tbody>\n",
       "    <tr>\n",
       "      <th>0</th>\n",
       "      <td>ut4efu</td>\n",
       "      <td>I played the guitar riff yesterday!</td>\n",
       "      <td></td>\n",
       "      <td>Grace-Music</td>\n",
       "      <td>2022-05-19 14:16:19</td>\n",
       "    </tr>\n",
       "    <tr>\n",
       "      <th>1</th>\n",
       "      <td>n3x5zx</td>\n",
       "      <td>Took my daughter to her first MLS game yesterd...</td>\n",
       "      <td></td>\n",
       "      <td>JiuManji</td>\n",
       "      <td>2021-05-03 14:15:03</td>\n",
       "    </tr>\n",
       "    <tr>\n",
       "      <th>2</th>\n",
       "      <td>jy4kdq</td>\n",
       "      <td>FIRST PLAYOFF WIN UPVOTE PARTY!!</td>\n",
       "      <td>LETS GO!! What a Game!!!</td>\n",
       "      <td>BigBlueNate33</td>\n",
       "      <td>2020-11-21 04:26:24</td>\n",
       "    </tr>\n",
       "    <tr>\n",
       "      <th>3</th>\n",
       "      <td>fbuyj5</td>\n",
       "      <td>Thought this guy deserved a shoutout</td>\n",
       "      <td></td>\n",
       "      <td>fullthrottle13</td>\n",
       "      <td>2020-03-01 14:44:32</td>\n",
       "    </tr>\n",
       "    <tr>\n",
       "      <th>4</th>\n",
       "      <td>k0isnq</td>\n",
       "      <td>ANOTHER PLAYOFF WIN UPVOTE PARTY!!</td>\n",
       "      <td>LETS. FREAKING. GO!!!!!!! MASSIVE CLUB!!! Semi...</td>\n",
       "      <td>BigBlueNate33</td>\n",
       "      <td>2020-11-25 01:56:02</td>\n",
       "    </tr>\n",
       "  </tbody>\n",
       "</table>\n",
       "</div>"
      ],
      "text/plain": [
       "       id                                              Title  \\\n",
       "0  ut4efu                I played the guitar riff yesterday!   \n",
       "1  n3x5zx  Took my daughter to her first MLS game yesterd...   \n",
       "2  jy4kdq                   FIRST PLAYOFF WIN UPVOTE PARTY!!   \n",
       "3  fbuyj5               Thought this guy deserved a shoutout   \n",
       "4  k0isnq                 ANOTHER PLAYOFF WIN UPVOTE PARTY!!   \n",
       "\n",
       "                                             Content          Author  \\\n",
       "0                                                        Grace-Music   \n",
       "1                                                           JiuManji   \n",
       "2                           LETS GO!! What a Game!!!   BigBlueNate33   \n",
       "3                                                     fullthrottle13   \n",
       "4  LETS. FREAKING. GO!!!!!!! MASSIVE CLUB!!! Semi...   BigBlueNate33   \n",
       "\n",
       "             Post Date  \n",
       "0  2022-05-19 14:16:19  \n",
       "1  2021-05-03 14:15:03  \n",
       "2  2020-11-21 04:26:24  \n",
       "3  2020-03-01 14:44:32  \n",
       "4  2020-11-25 01:56:02  "
      ]
     },
     "execution_count": 24,
     "metadata": {},
     "output_type": "execute_result"
    }
   ],
   "source": [
    "nsc_posts.head()"
   ]
  },
  {
   "cell_type": "code",
   "execution_count": 25,
   "metadata": {},
   "outputs": [
    {
     "data": {
      "text/html": [
       "<div>\n",
       "<style scoped>\n",
       "    .dataframe tbody tr th:only-of-type {\n",
       "        vertical-align: middle;\n",
       "    }\n",
       "\n",
       "    .dataframe tbody tr th {\n",
       "        vertical-align: top;\n",
       "    }\n",
       "\n",
       "    .dataframe thead th {\n",
       "        text-align: right;\n",
       "    }\n",
       "</style>\n",
       "<table border=\"1\" class=\"dataframe\">\n",
       "  <thead>\n",
       "    <tr style=\"text-align: right;\">\n",
       "      <th></th>\n",
       "      <th>Comment ID</th>\n",
       "      <th>Parent Comment ID</th>\n",
       "      <th>Text</th>\n",
       "      <th>Author</th>\n",
       "      <th>Date</th>\n",
       "      <th>Post ID</th>\n",
       "    </tr>\n",
       "  </thead>\n",
       "  <tbody>\n",
       "    <tr>\n",
       "      <th>0</th>\n",
       "      <td>i97ewgh</td>\n",
       "      <td>None</td>\n",
       "      <td>It was fantastic!  You crushed it!</td>\n",
       "      <td>DirtyFlip</td>\n",
       "      <td>2022-05-19 14:26:04</td>\n",
       "      <td>ut4efu</td>\n",
       "    </tr>\n",
       "    <tr>\n",
       "      <th>1</th>\n",
       "      <td>i97eye1</td>\n",
       "      <td>None</td>\n",
       "      <td>Sounded great!</td>\n",
       "      <td>Cerebralflea</td>\n",
       "      <td>2022-05-19 14:26:27</td>\n",
       "      <td>ut4efu</td>\n",
       "    </tr>\n",
       "    <tr>\n",
       "      <th>2</th>\n",
       "      <td>i97fvs9</td>\n",
       "      <td>None</td>\n",
       "      <td>you did a great job!!</td>\n",
       "      <td>trillwilly69</td>\n",
       "      <td>2022-05-19 14:33:10</td>\n",
       "      <td>ut4efu</td>\n",
       "    </tr>\n",
       "    <tr>\n",
       "      <th>3</th>\n",
       "      <td>i97llqq</td>\n",
       "      <td>None</td>\n",
       "      <td>Amazing job last night.  Hope you can come bac...</td>\n",
       "      <td>jasonlp03</td>\n",
       "      <td>2022-05-19 15:13:11</td>\n",
       "      <td>ut4efu</td>\n",
       "    </tr>\n",
       "    <tr>\n",
       "      <th>4</th>\n",
       "      <td>i97o17n</td>\n",
       "      <td>i97llqq</td>\n",
       "      <td>Me too!</td>\n",
       "      <td>Grace-Music</td>\n",
       "      <td>2022-05-19 15:29:57</td>\n",
       "      <td>ut4efu</td>\n",
       "    </tr>\n",
       "  </tbody>\n",
       "</table>\n",
       "</div>"
      ],
      "text/plain": [
       "  Comment ID Parent Comment ID  \\\n",
       "0    i97ewgh              None   \n",
       "1    i97eye1              None   \n",
       "2    i97fvs9              None   \n",
       "3    i97llqq              None   \n",
       "4    i97o17n           i97llqq   \n",
       "\n",
       "                                                Text        Author  \\\n",
       "0                 It was fantastic!  You crushed it!     DirtyFlip   \n",
       "1                                     Sounded great!  Cerebralflea   \n",
       "2                              you did a great job!!  trillwilly69   \n",
       "3  Amazing job last night.  Hope you can come bac...     jasonlp03   \n",
       "4                                            Me too!   Grace-Music   \n",
       "\n",
       "                  Date Post ID  \n",
       "0  2022-05-19 14:26:04  ut4efu  \n",
       "1  2022-05-19 14:26:27  ut4efu  \n",
       "2  2022-05-19 14:33:10  ut4efu  \n",
       "3  2022-05-19 15:13:11  ut4efu  \n",
       "4  2022-05-19 15:29:57  ut4efu  "
      ]
     },
     "execution_count": 25,
     "metadata": {},
     "output_type": "execute_result"
    }
   ],
   "source": [
    "nsc_comments.head()"
   ]
  },
  {
   "cell_type": "markdown",
   "metadata": {},
   "source": [
    "### Writing to CSV File"
   ]
  },
  {
   "cell_type": "code",
   "execution_count": 27,
   "metadata": {},
   "outputs": [],
   "source": [
    "nsc_posts.to_csv(path_or_buf = '../Reddit Data/nsc_posts.csv')\n",
    "nsc_comments.to_csv(path_or_buf = '../Reddit Data/nsc_comments.csv')\n",
    "tt_posts.to_csv(path_or_buf = '../Reddit Data/tt_posts.csv')\n",
    "tt_comments.to_csv(path_or_buf = '../Reddit Data/tt_comments.csv')\n",
    "preds_posts.to_csv(path_or_buf = '../Reddit Data/preds_posts.csv')\n",
    "preds_comments.to_csv(path_or_buf = '../Reddit Data/preds_comments.csv')"
   ]
  }
 ],
 "metadata": {
  "kernelspec": {
   "display_name": "Python 3.9.13 ('base')",
   "language": "python",
   "name": "python3"
  },
  "language_info": {
   "codemirror_mode": {
    "name": "ipython",
    "version": 3
   },
   "file_extension": ".py",
   "mimetype": "text/x-python",
   "name": "python",
   "nbconvert_exporter": "python",
   "pygments_lexer": "ipython3",
   "version": "3.9.13"
  },
  "orig_nbformat": 4,
  "vscode": {
   "interpreter": {
    "hash": "5206b32b5f345ee646df70bcbe011cac435e70d5fa1022839ac50730ea7455ea"
   }
  }
 },
 "nbformat": 4,
 "nbformat_minor": 2
}
