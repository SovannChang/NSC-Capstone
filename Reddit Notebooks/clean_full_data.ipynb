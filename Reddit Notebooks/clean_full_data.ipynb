{
 "cells": [
  {
   "cell_type": "markdown",
   "metadata": {},
   "source": [
    "# Cleaning Reddit Data\n",
    "- The full pull will have duplicates that need to be removed\n",
    "- This notebook should only be run 1 time as it will overwrite the data"
   ]
  },
  {
   "cell_type": "code",
   "execution_count": 50,
   "metadata": {},
   "outputs": [],
   "source": [
    "import pandas as pd"
   ]
  },
  {
   "cell_type": "code",
   "execution_count": 51,
   "metadata": {},
   "outputs": [],
   "source": [
    "## Load data\n",
    "nsc_posts = pd.read_csv('../Reddit Data/nsc_posts_final.csv')\n",
    "nsc_comments = pd.read_csv('../Reddit Data/nsc_comments_final.csv')\n",
    "tt_posts = pd.read_csv('../Reddit Data/tt_posts_final.csv')\n",
    "tt_comments = pd.read_csv('../Reddit Data/tt_comments_final.csv')\n",
    "preds_posts = pd.read_csv('../Reddit Data/preds_posts_final.csv')\n",
    "preds_comments = pd.read_csv('../Reddit Data/preds_comments_final.csv')"
   ]
  },
  {
   "cell_type": "code",
   "execution_count": 52,
   "metadata": {},
   "outputs": [
    {
     "name": "stdout",
     "output_type": "stream",
     "text": [
      "Index(['Unnamed: 0', 'id', 'Title', 'Content', 'Author', 'Post Date'], dtype='object')\n",
      "Index(['Unnamed: 0', 'Comment ID', 'Parent Comment ID', 'Text', 'Author',\n",
      "       'Date', 'Post ID'],\n",
      "      dtype='object')\n"
     ]
    }
   ],
   "source": [
    "print(nsc_posts.columns)\n",
    "print(nsc_comments.columns)"
   ]
  },
  {
   "cell_type": "code",
   "execution_count": 53,
   "metadata": {},
   "outputs": [
    {
     "name": "stdout",
     "output_type": "stream",
     "text": [
      "(3941, 6)\n",
      "(54232, 7)\n",
      "(3831, 6)\n",
      "(155541, 7)\n",
      "(3658, 6)\n",
      "(62904, 7)\n"
     ]
    }
   ],
   "source": [
    "print(nsc_posts.shape)\n",
    "print(nsc_comments.shape)\n",
    "print(tt_posts.shape)\n",
    "print(tt_comments.shape)\n",
    "print(preds_posts.shape)\n",
    "print(preds_comments.shape)"
   ]
  },
  {
   "cell_type": "code",
   "execution_count": 54,
   "metadata": {},
   "outputs": [],
   "source": [
    "## Removing duplicates from all dataframes\n",
    "nsc_posts.drop_duplicates(subset = ['id'], inplace = True)\n",
    "nsc_comments.drop_duplicates(subset = ['Comment ID'], inplace = True)\n",
    "tt_posts.drop_duplicates(subset = ['id'], inplace = True)\n",
    "tt_comments.drop_duplicates(subset = ['Comment ID'], inplace = True)\n",
    "preds_posts.drop_duplicates(subset = ['id'], inplace = True)\n",
    "preds_comments.drop_duplicates(subset = ['Comment ID'], inplace = True)"
   ]
  },
  {
   "cell_type": "code",
   "execution_count": 55,
   "metadata": {},
   "outputs": [],
   "source": [
    "## Clean preds data from bots\n",
    "preds_bots = ['subredditsummarybot', 'AutoModerator']\n",
    "preds_posts = preds_posts[~preds_posts['Author'].isin(preds_bots)]\n",
    "preds_comments = preds_comments[~preds_comments['Author'].isin(preds_bots)]"
   ]
  },
  {
   "cell_type": "code",
   "execution_count": 56,
   "metadata": {},
   "outputs": [],
   "source": [
    "## Filter by date\n",
    "nsc_posts['Post Date'] = pd.to_datetime(nsc_posts['Post Date'])\n",
    "tt_posts['Post Date'] = pd.to_datetime(tt_posts['Post Date'])\n",
    "preds_posts['Post Date'] = pd.to_datetime(preds_posts['Post Date'])\n",
    "\n",
    "nsc_posts = nsc_posts[nsc_posts['Post Date'].dt.year >= 2022]\n",
    "tt_posts = tt_posts[tt_posts['Post Date'].dt.year >= 2022]\n",
    "preds_posts = preds_posts[preds_posts['Post Date'].dt.year >= 2022]"
   ]
  },
  {
   "cell_type": "code",
   "execution_count": 57,
   "metadata": {},
   "outputs": [],
   "source": [
    "## Making sure all rows of comments dataframes are from posts in Posts dataframes\n",
    "\n",
    "nsc_ids = nsc_posts['id'].unique()\n",
    "nsc_comments = nsc_comments[nsc_comments['Post ID'].isin(nsc_ids)].copy()\n",
    "tt_ids = tt_posts['id'].unique()\n",
    "tt_comments = tt_comments[tt_comments['Post ID'].isin(tt_ids)].copy()\n",
    "preds_ids = preds_posts['id'].unique()\n",
    "preds_comments = preds_comments[preds_comments['Post ID'].isin(preds_ids)].copy()"
   ]
  },
  {
   "cell_type": "code",
   "execution_count": 58,
   "metadata": {},
   "outputs": [],
   "source": [
    "## Removing posts with no comments\n",
    "nsc_ids_posts = set(nsc_posts['id'].unique())\n",
    "nsc_ids_comments = set(nsc_comments['Post ID'].unique())\n",
    "nsc_diff = nsc_ids_posts.symmetric_difference(nsc_ids_comments)\n",
    "tt_ids_posts = set(tt_posts['id'].unique())\n",
    "tt_ids_comments = set(tt_comments['Post ID'].unique())\n",
    "tt_diff = tt_ids_posts.symmetric_difference(tt_ids_comments)\n",
    "preds_ids_posts = set(preds_posts['id'].unique())\n",
    "preds_ids_comments = set(preds_comments['Post ID'].unique())\n",
    "preds_diff = preds_ids_posts.symmetric_difference(preds_ids_comments)\n",
    "\n",
    "nsc_posts = nsc_posts[~nsc_posts['id'].isin(nsc_diff)]\n",
    "tt_posts = tt_posts[~tt_posts['id'].isin(tt_diff)]\n",
    "preds_posts = preds_posts[~preds_posts['id'].isin(preds_diff)]"
   ]
  },
  {
   "cell_type": "code",
   "execution_count": 59,
   "metadata": {},
   "outputs": [
    {
     "name": "stdout",
     "output_type": "stream",
     "text": [
      "(1156, 6)\n",
      "(19377, 7)\n",
      "(1556, 6)\n",
      "(68284, 7)\n",
      "(969, 6)\n",
      "(16210, 7)\n"
     ]
    }
   ],
   "source": [
    "# Recheck sizes\n",
    "print(nsc_posts.shape)\n",
    "print(nsc_comments.shape)\n",
    "print(tt_posts.shape)\n",
    "print(tt_comments.shape)\n",
    "print(preds_posts.shape)\n",
    "print(preds_comments.shape)"
   ]
  },
  {
   "cell_type": "code",
   "execution_count": 60,
   "metadata": {},
   "outputs": [],
   "source": [
    "## Rewriting files\n",
    "nsc_posts.to_csv(path_or_buf = '../Reddit Data/nsc_posts_clean.csv')\n",
    "nsc_comments.to_csv(path_or_buf = '../Reddit Data/nsc_comments_clean.csv')\n",
    "tt_posts.to_csv(path_or_buf = '../Reddit Data/tt_posts_clean.csv')\n",
    "tt_comments.to_csv(path_or_buf = '../Reddit Data/tt_comments_clean.csv')\n",
    "preds_posts.to_csv(path_or_buf = '../Reddit Data/preds_posts_clean.csv')\n",
    "preds_comments.to_csv(path_or_buf = '../Reddit Data/preds_comments_clean.csv')"
   ]
  }
 ],
 "metadata": {
  "kernelspec": {
   "display_name": "Python 3.9.13 ('base')",
   "language": "python",
   "name": "python3"
  },
  "language_info": {
   "codemirror_mode": {
    "name": "ipython",
    "version": 3
   },
   "file_extension": ".py",
   "mimetype": "text/x-python",
   "name": "python",
   "nbconvert_exporter": "python",
   "pygments_lexer": "ipython3",
   "version": "3.9.13"
  },
  "orig_nbformat": 4,
  "vscode": {
   "interpreter": {
    "hash": "5206b32b5f345ee646df70bcbe011cac435e70d5fa1022839ac50730ea7455ea"
   }
  }
 },
 "nbformat": 4,
 "nbformat_minor": 2
}
