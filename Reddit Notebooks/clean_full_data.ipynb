{
 "cells": [
  {
   "cell_type": "markdown",
   "metadata": {},
   "source": [
    "# Cleaning Reddit Data\n",
    "- The full pull will have duplicates that need to be removed\n",
    "- This notebook should only be run 1 time as it will overwrite the data"
   ]
  },
  {
   "cell_type": "code",
   "execution_count": 1,
   "metadata": {},
   "outputs": [],
   "source": [
    "import pandas as pd"
   ]
  },
  {
   "cell_type": "code",
   "execution_count": 9,
   "metadata": {},
   "outputs": [],
   "source": [
    "## Load data\n",
    "nsc_posts = pd.read_csv('../Reddit Data/nsc_posts_final.csv')\n",
    "nsc_comments = pd.read_csv('../Reddit Data/nsc_comments_final.csv')\n",
    "tt_posts = pd.read_csv('../Reddit Data/tt_posts_final.csv')\n",
    "tt_comments = pd.read_csv('../Reddit Data/tt_comments_final.csv')\n",
    "preds_posts = pd.read_csv('../Reddit Data/preds_posts_final.csv')\n",
    "preds_comments = pd.read_csv('../Reddit Data/preds_comments_final.csv')"
   ]
  },
  {
   "cell_type": "code",
   "execution_count": 4,
   "metadata": {},
   "outputs": [
    {
     "name": "stdout",
     "output_type": "stream",
     "text": [
      "Index(['Unnamed: 0', 'id', 'Title', 'Content', 'Author', 'Post Date'], dtype='object')\n",
      "Index(['Unnamed: 0', 'Comment ID', 'Parent Comment ID', 'Text', 'Author',\n",
      "       'Date', 'Post ID'],\n",
      "      dtype='object')\n"
     ]
    }
   ],
   "source": [
    "print(nsc_posts.columns)\n",
    "print(nsc_comments.columns)"
   ]
  },
  {
   "cell_type": "code",
   "execution_count": 10,
   "metadata": {},
   "outputs": [
    {
     "name": "stdout",
     "output_type": "stream",
     "text": [
      "(3941, 6)\n",
      "(54232, 7)\n",
      "(3831, 6)\n",
      "(155541, 7)\n",
      "(3658, 6)\n",
      "(62904, 7)\n"
     ]
    }
   ],
   "source": [
    "print(nsc_posts.shape)\n",
    "print(nsc_comments.shape)\n",
    "print(tt_posts.shape)\n",
    "print(tt_comments.shape)\n",
    "print(preds_posts.shape)\n",
    "print(preds_comments.shape)"
   ]
  },
  {
   "cell_type": "code",
   "execution_count": 11,
   "metadata": {},
   "outputs": [],
   "source": [
    "## Removing duplicates from all dataframes\n",
    "nsc_posts.drop_duplicates(subset = ['id'], inplace = True)\n",
    "nsc_comments.drop_duplicates(subset = ['Comment ID'], inplace = True)\n",
    "tt_posts.drop_duplicates(subset = ['id'], inplace = True)\n",
    "tt_comments.drop_duplicates(subset = ['Comment ID'], inplace = True)\n",
    "preds_posts.drop_duplicates(subset = ['id'], inplace = True)\n",
    "preds_comments.drop_duplicates(subset = ['Comment ID'], inplace = True)"
   ]
  },
  {
   "cell_type": "code",
   "execution_count": 12,
   "metadata": {},
   "outputs": [
    {
     "name": "stdout",
     "output_type": "stream",
     "text": [
      "(2409, 6)\n",
      "(31118, 7)\n",
      "(2786, 6)\n",
      "(115555, 7)\n",
      "(2742, 6)\n",
      "(50004, 7)\n"
     ]
    }
   ],
   "source": [
    "print(nsc_posts.shape)\n",
    "print(nsc_comments.shape)\n",
    "print(tt_posts.shape)\n",
    "print(tt_comments.shape)\n",
    "print(preds_posts.shape)\n",
    "print(preds_comments.shape)"
   ]
  },
  {
   "cell_type": "code",
   "execution_count": 13,
   "metadata": {},
   "outputs": [],
   "source": [
    "## Rewriting files\n",
    "nsc_posts.to_csv(path_or_buf = '../Reddit Data/nsc_posts_clean.csv')\n",
    "nsc_comments.to_csv(path_or_buf = '../Reddit Data/nsc_comments_clean.csv')\n",
    "tt_posts.to_csv(path_or_buf = '../Reddit Data/tt_posts_clean.csv')\n",
    "tt_comments.to_csv(path_or_buf = '../Reddit Data/tt_comments_clean.csv')\n",
    "preds_posts.to_csv(path_or_buf = '../Reddit Data/preds_posts_clean.csv')\n",
    "preds_comments.to_csv(path_or_buf = '../Reddit Data/preds_comments_clean.csv')"
   ]
  }
 ],
 "metadata": {
  "kernelspec": {
   "display_name": "Python 3.9.13 ('base')",
   "language": "python",
   "name": "python3"
  },
  "language_info": {
   "codemirror_mode": {
    "name": "ipython",
    "version": 3
   },
   "file_extension": ".py",
   "mimetype": "text/x-python",
   "name": "python",
   "nbconvert_exporter": "python",
   "pygments_lexer": "ipython3",
   "version": "3.9.13"
  },
  "orig_nbformat": 4,
  "vscode": {
   "interpreter": {
    "hash": "5206b32b5f345ee646df70bcbe011cac435e70d5fa1022839ac50730ea7455ea"
   }
  }
 },
 "nbformat": 4,
 "nbformat_minor": 2
}
