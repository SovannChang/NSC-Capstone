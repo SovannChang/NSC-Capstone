{
 "cells": [
  {
   "cell_type": "markdown",
   "metadata": {},
   "source": [
    "# ABSA on Preds Threads"
   ]
  },
  {
   "cell_type": "code",
   "execution_count": 11,
   "metadata": {},
   "outputs": [],
   "source": [
    "## Load libraries\n",
    "from langchain.llms.openai import OpenAI\n",
    "from langchain.chains import LLMChain\n",
    "from langchain.prompts import PromptTemplate\n",
    "from langchain.prompts.few_shot import FewShotPromptTemplate\n",
    "from langchain.chains import SequentialChain\n",
    "import openai\n",
    "from getpass import getpass\n",
    "import os\n",
    "import warnings\n",
    "import pandas as pd\n",
    "import re\n",
    "import random\n",
    "import time\n",
    "\n",
    "warnings.filterwarnings(\"ignore\")"
   ]
  },
  {
   "cell_type": "code",
   "execution_count": 2,
   "metadata": {},
   "outputs": [],
   "source": [
    "## Load data\n",
    "preds_posts = pd.read_csv('../Reddit Data/preds_posts_clean.csv')\n",
    "preds_comments = pd.read_csv('../Reddit Data/preds_comments_clean.csv')"
   ]
  },
  {
   "cell_type": "code",
   "execution_count": 3,
   "metadata": {},
   "outputs": [],
   "source": [
    "## Load helper functions\n",
    "class Post:\n",
    "    def __init__(self, post_id, title, content):\n",
    "        self.post_id = post_id\n",
    "        self.title = title\n",
    "        self.content = content\n",
    "        self.comments = []\n",
    "\n",
    "class Comment:\n",
    "    def __init__(self, comment_id, text, post_id):\n",
    "        self.comment_id = comment_id\n",
    "        self.text = text\n",
    "        self.post_id = post_id  # Store the post_id\n",
    "        self.parent_comment = None\n",
    "        self.replies = []\n",
    "\n",
    "# Create dictionaries to map post IDs to Post objects and comment IDs to Comment objects.\n",
    "posts_dict = {}\n",
    "comments_dict = {}\n",
    "\n",
    "# Populate posts_dict and comments_dict from your dataframes.\n",
    "for post_row in preds_posts.itertuples():\n",
    "    post_id = post_row.id\n",
    "    title = post_row.Title\n",
    "    content = post_row.Content\n",
    "    post = Post(post_id, title, content)\n",
    "    posts_dict[post_id] = post\n",
    "\n",
    "\n",
    "comments_df = preds_comments.rename(columns={\n",
    "    'Comment ID': 'Comment_ID',\n",
    "    'Parent Comment ID': 'Parent_Comment_ID',\n",
    "    'Text': 'Text',\n",
    "    'Author': 'Author',\n",
    "    'Date': 'Date',\n",
    "    'Post ID': 'Post_ID'\n",
    "})\n",
    "\n",
    "# Now the columns have underscores instead of spaces, making it easier to access them.\n",
    "\n",
    "# You can use the updated column names directly in your code as follows:\n",
    "for comment_row in comments_df.itertuples():\n",
    "    comment_id = comment_row.Comment_ID\n",
    "    text = comment_row.Text\n",
    "    post_id = comment_row.Post_ID  # Store the post_id\n",
    "    comment = Comment(comment_id, text, post_id)\n",
    "    comments_dict[comment_id] = comment\n",
    "\n",
    "    # Assign parent comment if it exists.\n",
    "    parent_comment_id = comment_row.Parent_Comment_ID\n",
    "    if not pd.isna(parent_comment_id):\n",
    "        parent_comment = comments_dict.get(parent_comment_id)\n",
    "        if parent_comment:\n",
    "            comment.parent_comment = parent_comment\n",
    "            parent_comment.replies.append(comment)\n",
    "\n",
    "# Function to get the full thread for a given post and its comments\n",
    "def get_thread_for_post(post, comments_dict):\n",
    "    thread = f\"Title: {post.title}\\nContent: {post.content}\\n\\nComments:\\n\"\n",
    "    \n",
    "    for comment_id, comment in comments_dict.items():\n",
    "        if comment.post_id == post.post_id:\n",
    "            if comment.parent_comment is None:\n",
    "                indicator = \"T:\"  # Top-level comment indicator\n",
    "            else:\n",
    "                indicator = \"R:\"  # Reply indicator\n",
    "            # Add the comment to the thread\n",
    "            thread += f\"{indicator} Comment Text: {comment.text}\\n\"\n",
    "\n",
    "    return thread"
   ]
  },
  {
   "cell_type": "code",
   "execution_count": 4,
   "metadata": {},
   "outputs": [],
   "source": [
    "## Set up OpenAI Key\n",
    "OPENAI_API_KEY = getpass()\n",
    "os.environ[\"OPENAI_API_KEY\"] = OPENAI_API_KEY\n",
    "openai.api_key = os.getenv(\"OPENAI_API_KEY\")\n",
    "llm = OpenAI(model_name=\"gpt-3.5-turbo-1106\")"
   ]
  },
  {
   "cell_type": "markdown",
   "metadata": {},
   "source": [
    "Links for examples:\n",
    "\n",
    "https://www.reddit.com/r/Patriots/comments/17oqay4/the_lack_of_fundamentals_on_this_team_is/\n",
    "https://www.reddit.com/r/Predators/comments/1871ola/picking_a_jersey/  \n",
    "https://www.reddit.com/r/49ers/comments/173va1a/with_all_those_weapons/\n",
    "https://www.reddit.com/r/Predators/comments/186bjzz/am_i_looking_at_this_wrong/\n",
    "https://www.reddit.com/r/Tennesseetitans/comments/eo0j92/am_i_the_only_one_that_thinks_espn_hates_talking/\n",
    "https://www.reddit.com/r/Predators/comments/tl6l7m/flyers_fans_visiting_the_area_looking_for_the/\n",
    "https://www.reddit.com/r/Tennesseetitans/comments/wzzefw/a_bizarre_fun_fact_about_kern/\n",
    "https://www.reddit.com/r/Predators/comments/f3gxgg/make_bridgestone_loud_again/\n",
    "https://www.reddit.com/r/Predators/comments/189dja2/free_seat_upgrades/"
   ]
  },
  {
   "cell_type": "code",
   "execution_count": 5,
   "metadata": {},
   "outputs": [],
   "source": [
    "## Aspect Extraction Chain\n",
    "examples = [{\n",
    "    \"thread\": '''\n",
    "    Title: the lack of fundamentals on this team is astounding\n",
    "    Content: to me the most shocking thing is how bad this team is top to bottom when it comes to fundamentals. awful decision making, penalties, etc. we’re awful across the board. it’s one thing to not have much talent, but how could a team under Vrabel be so bad at the fundamentals? our older teams had great fundamentals. \n",
    "    \n",
    "    what happened? this season had really put Brunette's actual coaching skills in a terrible light imo.\n",
    "    Comments: \n",
    "    T: Comment Text: It starts with coaching and buy in. Brunette has lost most of the team IMO. They have no real leaders. Most guys will be gone in 2 years and they know it. A bunch of rouge players not giving a shit.\n",
    "\n",
    "    They don't trust the Brunette way anymore.\n",
    "    R: Comment Text: Moulin Rouge?\n",
    "    T: Comment Text: There is nowhere else to look other than Brunette. The justification to keep him around is that he should be able to field a disciplined team that gives effort and makes smart plays even if there is a talent disparity.\n",
    "\n",
    "    With how unprofessional and unprepared the team has been the last few years I’m not sure what coaching “advantage” he’s giving you anymore.\n",
    "    R: Comment Text: Trotz has to get rid of Brunette. Period\n",
    "    R: Comment Text: It's time. 2-7.\n",
    "\n",
    "    Who can this team beat in the remaining schedule? The Sharks??\n",
    "    ''',\n",
    "    \"aspects\": \"Relevant Aspects are 'team performance' and 'coaching and management'.\"\n",
    "},\n",
    "{\n",
    "    \"thread\": '''\n",
    "    Title: Picking a jersey\n",
    "    Content: My brother just moved to Tennessee and as a housewarming gift I was going to get him a jersey. Been a while since I’ve watched preds games even semi-regularly so not super up to date. Wanted to see if you guys have a good suggestion of who to pick.\n",
    "    \n",
    "    I know the obvious ones Josi, Saros, Forsberg, but to help, he typically likes the oft-underappreciated tougher, scrappier guys. Like a Radko Gudas, Tom Wilson, you get the point. Preferably somebody you guys think is here for the long term (at least a few years).\n",
    "    \n",
    "    Thanks!\n",
    "    Comments: \n",
    "    T: Can't go wrong with Rinne jersey\n",
    "    R: Amen\n",
    "    T: You could always go with a custom jersey as well. My mom got me one for Christmas last year with my favorite number and last name and I love it!\n",
    "    R: We got custom ones with our favorite players names and numbers lol. Much cheaper xD\n",
    "    T: I personally like Sherwood\n",
    "    R: Mr Hustle! Dude is everywhere all the time\n",
    "    ''',\n",
    "    \"aspects\": \"Relevant Aspects are 'miscellaneous'.\"\n",
    "},\n",
    "{\n",
    "    \"thread\": '''\n",
    "    Title: “With all those weapons…”\n",
    "    Content: “… who couldn’t win?”\n",
    "    \n",
    "    I’m so tired of this take from sports media and my friends. This is what you do in any sport - build the best team you can and coach them well. That’s what Andrew Brunette and Barry Trotz have done. Last night should have ended that sweaty, cynical take. Dallas focused on the players who have been red hot in the previous 4 games, and so we asked Forsberg and Josi to step up, and they were ready.    \n",
    "    Comments: \n",
    "    T: Comment Text: I don’t even care about the talk anymore. I love Juuse Saros and that’s enough for me. I love him.\n",
    "    R: Comment Text: 100%. The story, the identity he brings to the team, the focus and stability he brings to the game. I’m all in.\n",
    "    T: Comment Text: y’all need to stop getting tilted about this shit. and embarrassment of riches is a good problem to have\n",
    "    T: Comment Text: Saros just can’t win this narrative. He basically has to play perfect just so people think he’s ‘competent’. What happens when he has a bad game or god forbid two. All the national media is going to be ‘I told you so.’\n",
    "    \n",
    "    I just dunno what else Saros can do.\n",
    "    R: Comment Text: Doesn't matter as long as the people in the house know what's up.\n",
    "    ''',\n",
    "    \"aspects\": \"Relevant Aspects are 'team performance', 'coaching and management', and 'media coverage'.\"\n",
    "},\n",
    "{\n",
    "    \"thread\": '''\n",
    "    Title: Am I looking at this wrong?\n",
    "    Content: Was always a casual fan, never a die hard. I loved going to Preds games my whole life. Always had a jersey, always scored tickets to several games a year. But something happened after 2017. I felt pushed out. All of a sudden, it was the hot ticket in town. Tickets dried up. I checked several times over the years, and tickets on the resell market were well into the hundreds for a Saturday game.\n",
    "    \n",
    "    I checked out and found other things to do. Didn’t really think about it until a year ago when this guy I was next to at a concert told me he scored lower bowl Hurricanes Game 7 tickets for 200 each. Now, I know Nashville is a cool place, but it felt like the Preds priced out all the fans who were around since the 90s. Just completely disconnected from us who had been on board since day 1.\n",
    "    \n",
    "    Tickets are starting to appear again! But I’m not getting back on board for them to push me out again. Once again, I’m not a die hard. I’m sure they were out there if I looked at the right places at the right times. But it felt like you had to be locked in where as before, the Preds tried to reach you\n",
    "    \n",
    "    Am I looking at this wrong? I’m open to being wrong here.    \n",
    "    Comments: \n",
    "    T: Haven’t looked at prices this season, but yea I definitely felt that way. Being at the games since then has felt that way as well for me. Add that to how awful the NHL TV deals are and I haven’t watched as much as I planned this year. I don’t want to have to hunt every game down, and have multiple subscriptions. Oh well, I’ll always be a Preds fan. Hoping the league can course correct a bit.\n",
    "    T: We were STH for years. We stopped during the pandemic and just decided it wasn’t worth the cost anymore. The culture definitely changed over the years. While the 2017 playoffs were the high point, the 2018 season was a great atmosphere as well.\n",
    "    \n",
    "    After that, the crowd gradually got quieter, and it was clear that most people going weren’t regulars. I went to a game this week, and it felt like we were the only people in our section doing the chants.\n",
    "    \n",
    "    I still enjoy going to games, but it’s definitely different.\n",
    "    T: I'm grateful for the financial stability it has brought to the franchise, but saddened that so many of us who were there during the lean years aren't able to support the team the way we used to.\n",
    "    T: I hate resell sites as much as the next guy but you can often find stubhub tickets for $15-20 a pop for weeknight games up in the upper deck which is what I usually do. It would be fun to sit closer but even sitting up high is more fun than watching on tv imo so that’s what I end up doing\n",
    "    T: It's not just Nashville or Hockey.\n",
    "    \n",
    "    From ~2005 to around 2018 the Bucks were rivaling the Brewers in terms of how cheap it was to get into games, at one point they were offering half season tickets for $99 on black Friday, then the fancy new arena got built, the team started winning, and all of a sudden people who previously had no interest on Basketball were flocking to the arena.\n",
    "    \n",
    "    Now if you want to go to a weekend or marquee game it's gonna cost minimum $70-80 a ticket, not including parking, food, etc, which is the reason i've gone to 6 Admirals games this season, and 1 Wednesday night Bucks game against the fucking Pistons.\n",
    "    R: Yeah this stuff gets old. They need to have a section where it’s day of, cheap tickets in the upper deck or whatever that you gotta call in to get. Something. No one is asking for cheap lower bowl seats\n",
    "    ''',\n",
    "    \"aspects\": \"Relevant Aspects are 'pricing'.\"\n",
    "},\n",
    "{\n",
    "    \"thread\": '''\n",
    "    Title: Am I the only one that thinks espn hates talking abt the preds\n",
    "    Content:  I swear they talk abt everyone we beat and any other game that was on or abt to play rather than giving us any credit. From what I’ve seen they don’t want us here and they try to play down what we’ve done and have given us no credit saying that the teams we’ve beat didn’t play good or we got lucky. Let me know your thoughts\n",
    "    Comments: \n",
    "    T: Surprise! We are a small market team. It’s been this way literally forever.\n",
    "    R: How is Nashville a small market team when there are 1.5 million people in the city on any given day?\n",
    "    R: Because half of them aren’t fans/from Nashville\n",
    "    T: I think Brunette went over to ESPN and bullied them all to keep the talking about us to a minimum, to help our boys stay focused and keep that hungry underdog mentality!\n",
    "    T: I just enjoy that they are talking. And I don’t think they “hate” us. Just a small market team. Hard to satisfy a national audience with a small amount of fans. They love Forsberg and the heart of the team.\n",
    "    T: ESPN is a known bias propagandizing network . I've switched to fox more and more this year. They giving preds love.\n",
    "    T: People need to understand the audience isn’t the same for ESPN anymore. Its not like it used to be where every man in the world watches ESPN. A lot of the higher quality viewers are just using the internet or their phones now to look up high lights. As a result I feel these sports shows have to be more entertaining to get ratings, and as a result they just talk about the popular teams. People this is entertainment. They aren’t out here to give a fair or honest assessment.\n",
    "    R: Chicken and egg with that one. I stopped watching when ESPN became the Lebron/Tiger/Brady channel.\n",
    "    ''',\n",
    "    \"aspects\": \"Relevant Aspects are 'media coverage'.\"\n",
    "},\n",
    "{\n",
    "   \"thread\": '''\n",
    "    Title: Flyers Fans visiting the area looking for the best meal in Bridgestone Arena\n",
    "    Content:  Hey all, me and a bunch of friends are visiting Nashville for a bachelor party and surprising the married man to be with tickets to the game Sunday. Seeing as we're probably gonna be hungover on death's door, what's the best meal to munch on in Bridgestone?\n",
    "    \n",
    "    If you can drop a name and the section in the comments I'll love you forever.\n",
    "    Comments: \n",
    "    T: I don’t care what anyone says, the walking taco bowl down near the main entrance always slaps. Especially if you’re a couple beers deep.\n",
    "    T: If you’re dead set on eating at Bridgestone the BBQ nachos are my guilty pleasure.\n",
    "    \n",
    "    You’re in Nashville so do yourself a favor and walk to Martins BBQ. Everything they have is fire. A little secret not many people know is you can get the wings with the Cajun rub and then tossed in the Alabama white sauce.\n",
    "    T: The grilled cheese sandwiches (Ground floor, just off to the left of the entrance) absolutely fucking slap. I would get one right away as they can take a while, but god damn are they good.\n",
    "    ''',\n",
    "    \"aspects\": \"Relevant Aspects are 'stadium amenities'.\"\n",
    "},\n",
    "{\n",
    "    \"thread\": '''\n",
    "    Title: A Bizarre fun Fact about Ekholm\n",
    "    Content: Ekholm has literally played for every Head Coach for the Predators Franchise!\n",
    "    Comments: \n",
    "    T: He's basically Elvish in NHL terms. He's seen ages, where other players have just seen years.\n",
    "    R: You literally couldn't of put it a better way he has seen everything! lol\n",
    "    R: This is truly a deep comment\n",
    "    T: Wow, that’s actually insane.\n",
    "    T: I used to play words with friends with Ekholm. Good times\n",
    "    ''',\n",
    "    \"aspects\": \"Relevant Aspects are 'miscellaneous'.\"\n",
    "},\n",
    "{\n",
    "    \"thread\": '''\n",
    "    Title: Make Bridgestone loud again!\n",
    "    Content:  This is a call to arms for all fans going to the game tonight! I know things have looked bleak as of late, but we need to remind our boys of our support, and that they shouldn’t dread playing at home for us!\n",
    "    \n",
    "    So even if we get into a big hole, let’s all band together and be leaders in the crowd tonight and cheer our team into a win! Never give up!\n",
    "    Comments: \n",
    "    T: When they jacked up the prices the crowd noise quieted down immediately. There was a precipitous drop the season after the playoff run.\n",
    "    R: Prices were going up after the playoff run anyway. The only question was whether the increase would go to the Predators or to the ticket brokers.\n",
    "    T: Ridiculously expensive tickets have kept the most loyal and loudest fans home.\n",
    "    T: I was literally sitting at Wicked Weed watching the prices fall as we got closer to game time because I was having this exact conversation. It’s not the first time the tickets have hit $10. I posted a screenshot with a $10 lower bowl pair a couple weeks ago.\n",
    "    R: $10 lower bowl seats? PM me if you ever see that again lol\n",
    "    R: $20 lower bowl seats tonight. $10 in the upper bowl. Shame all the real fans are being priced out though.\n",
    "    ''',\n",
    "    \"aspects\": \"Relevant Aspects are 'stadium atmosphere' and 'pricing'.\"\n",
    "}]\n",
    "\n",
    "prompt_template = '''\n",
    "Thread: {thread}\n",
    "{aspects}\n",
    "'''\n",
    "\n",
    "example_prompt = PromptTemplate(input_variables = [\"thread\", \"aspects\"], template = prompt_template)\n",
    "\n",
    "final_prompt = FewShotPromptTemplate(\n",
    "    examples = examples,\n",
    "    example_prompt = example_prompt,\n",
    "    suffix = \"Thread: {thread}\\n\",\n",
    "    input_variables = [\"thread\"],\n",
    "    prefix = '''\n",
    "    I am extracting aspects from a Reddit Thread made by Nashville Predators fans. The Nashville Predators are a hockey team that play at their stadium: Bridgestone Arena in Nashville, Tennessee. Their coach is Andrew Brunette, their general manager is Barry Trotz, and some of their key players are Juuce Saros, Roman Josi, Ryan O'Reilly, Filip Forsberg, Tyson Barrie, Alexandre Carrier, Jeremy Lauzon, Colton Sissons, Kevin Lankinen, Cole Smith, Kiefer Sherwood, Ryan McDonagh, and Gustav Nyquist. Any other names that are given, assume they are on an opposing team.\n",
    "    For this conversational thread, please return a list of the following aspects of fan experience: 'team performance' (specifically the Predators, ignore talk about other teams), 'stadium amenities' (including food and the gift shop), 'coaching and management', 'pricing', 'stadium atmosphere' (including comfort, safety, and crowd atmosphere), 'media coverage', 'brand partners', and a 'miscellaneous' category for any aspect(s) not covered by the previous list. \n",
    "    The structure of the post will be as follows: Title is the general title made of the original post. Content is the text from the original post. Comments will be all comments on the post. Any comment labelled as \"T: Comment Text\" is a top-level comment, so use the original post and content as the context for this comment. Any comment labelled as \"R: Comment Text\" is a reply comment, so use all the comments above it until you hit a top-level comment, as well as the original post and content as the context for this comment. If the Content of a post is \"nan\", that means the post was an image. For any of these posts, just consider the post title and comments, ignoring the \"nan\" content.\n",
    "    ''')\n",
    "\n",
    "aspect_extraction_chain = LLMChain(llm = llm, prompt = final_prompt, output_key = 'aspects')\n",
    "#print(final_prompt.format(thread=\"Test\"))"
   ]
  },
  {
   "cell_type": "markdown",
   "metadata": {},
   "source": [
    "Around 3500 GPT-4 tokens before any post is added in"
   ]
  },
  {
   "cell_type": "code",
   "execution_count": 6,
   "metadata": {},
   "outputs": [],
   "source": [
    "## Sentiment Analysis Chain\n",
    "prompt_template2 = '''\n",
    "Given below thread and the extracted aspects, tell me about the sentiment of those aspects. This sentiment should be on a continuous scale of -1 to 1, where -1 is the most negative, 0 is the most neutral, and 1 is the most postive. Round the score to 2 decimal places. Follow this format: (aspect, sentiment_score).\n",
    "Thread: {thread}\n",
    "Aspects: {aspects}\n",
    "[(Aspect1, Sentiment_Score_1), (Aspect2, Sentiment_Score_2),.....]\n",
    "'''\n",
    "\n",
    "example_prompt2 = PromptTemplate(input_variables = [\"thread\", \"aspects\"], template = prompt_template2)\n",
    "\n",
    "aspect_sentiment_chain = LLMChain(llm = llm, prompt = example_prompt2, output_key = \"Aspects_with_sentiment\")"
   ]
  },
  {
   "cell_type": "code",
   "execution_count": 7,
   "metadata": {},
   "outputs": [],
   "source": [
    "## Full Sequential Chain\n",
    "overall_chain = SequentialChain(\n",
    "    chains = [aspect_extraction_chain, aspect_sentiment_chain],\n",
    "    input_variables = [\"thread\"],\n",
    "    output_variables = [\"thread\", \"aspects\", \"Aspects_with_sentiment\"],\n",
    "    verbose = False\n",
    ")"
   ]
  },
  {
   "cell_type": "code",
   "execution_count": 8,
   "metadata": {},
   "outputs": [],
   "source": [
    "## Store threads\n",
    "threads = []\n",
    "for post_id, post in posts_dict.items():\n",
    "    thread = get_thread_for_post(post, comments_dict)\n",
    "    threads.append(thread)"
   ]
  },
  {
   "cell_type": "code",
   "execution_count": 9,
   "metadata": {},
   "outputs": [
    {
     "name": "stdout",
     "output_type": "stream",
     "text": [
      "Title: Thoughts and breakdown after the Trade\n",
      "Content: Obviously, this trade sheds light once again on the Predators’ intent to revamp this roster. As the dust settles on this trade, I want to delve into the intricacies and potential ramifications for the Predators.\n",
      "\n",
      "Ryan Johansen, known for his mercurial performances and playmaking abilities, had been a cornerstone of the Predators’ forward line for nearly a decade. However, his inconsistency and recent injury proneness rendered him a questionable investment against his hefty $8 million per year contract. By trading Johansen away, the Predators have freed up cap space and relieved themselves of a player who failed to live up to the expectations set by his substantial salary.  \n",
      "When you look at the acquisition (if they even choose to sign him) of Alex Galchenyuk in this trade, the Predators received a former third-overall pick who has experienced both success and setbacks during his NHL career. While Galchenyuk spent the previous season in the AHL, his past achievements as a consistent near 20-goal scorer stand out. Although his role on the Predators’ roster remains uncertain, his potential utility makes him an intriguing addition if kept on. The Predators may have seen something in Galchenyuk that could contribute to their plans, or they might let him walk in free agency. \n",
      "\n",
      "  \n",
      "With Johansen’s departure from the team, the Predators are poised to embrace the emergence of young talent throughout the entire roster. The likely candidate to fill the Center role is the promising Cody Glass, who showcased his improvement and skills during the previous season. Glass, at the age of 24, presents a perfect bridge piece for the team’s ongoing rebuild, with the potential to provide stability and contribute to the Predators’ offensive prowess for the foreseeable future.  \n",
      "This trade may signify the Predators’ desire to make a substantial splash in the trade market this offseason. General Manager Barry Trotz has already voiced his disinterest in this season’s free agency options, hinting at the team’s intention to utilize the newly available resources. With the freed-up cap space and an arsenal of draft picks acquired through last season’s trades, the Predators are now in an ideal position to pursue top-tier available players. Alex DeBrincat, a name linked to the Predators in recent weeks, could fit the bill, bringing much-needed offensive talent and scoring ability to the team.  \n",
      "Regardless of the team’s motivations behind this trade, Ryan Johansen’s departure will undoubtedly leave a void in Nashville. The fans and his teammates will miss his contributions on and off the ice. However, this trade represents a calculated move by the Predators to shed cap space, rejuvenate their roster, and position themselves for future success. As the NHL offseason unfolds, the Predators possess the financial flexibility and assets to make significant moves in the trade market, ensuring an intriguing and transformative period for the franchise.\n",
      "\n",
      "&#x200B;\n",
      "\n",
      "**Just curious what others think about this. Do you think this means the Preds are going after a big name in the trade market, and if so, who should they go after? Im going to miss Joey, but I'm hoping that 4 million goes to signing or trading for someone who can be dynamic on offense.** \n",
      "\n",
      "&#x200B;\n",
      "\n",
      "*Original Post:* [https://gabefly.com/short-snapshots-nashville-predators-trade-ryan-johansen/](https://gabefly.com/short-snapshots-nashville-predators-trade-ryan-johansen/)\n",
      "\n",
      "Comments:\n",
      "T: Comment Text: It’s important to note that Alex Galchenyuk becomes a free agent on July 1st.\n",
      "R: Comment Text: Im intrigued to see if they sign him. Why trade for him if you are just going to let him walk? I understand it was a cap dump, but you could have done that for the classic \"future considerations\" from Colorado if you didn't want anything back and just wanted a simple cap dump.\n",
      "R: Comment Text: You trade for him because it’s a cap dump and you have no requirement to keep him at all. Sure, you can re-sign him if you want to, but he was a part of that trade simply bc the Avs had to send *something* and Gal is the next baby step up from nothing. \n",
      "\n",
      "Again, this was purely a cap dump by our FO. Just getting out of half of Joey’s contract alone made it worth it.\n",
      "R: Comment Text: You are most likely correct. But something that piqued my curiosity, as I stated above, was why not just ship Joey for \"future considerations\" at that point? It probably makes no difference because you can just let Gal walk, but it might be something to keep an eye on; I wouldn't be surprised if we give him a 1-year deal.\n",
      "R: Comment Text: I believe the reason is that you aren't allowed to retain salary on a future considerations deal, so the Avs traded someone they werent going to sign anyway\n",
      "R: Comment Text: Nice! Didn't know that rule. Thanks!\n",
      "R: Comment Text: I didn’t know that either. Thanks!\n",
      "R: Comment Text: Because future considerations is effectively nothing. Again, Gal is also basically nothing, so it doesn’t really matter either way.\n",
      "R: Comment Text: Because we would had to buy Joey out because he’s a pylon and no one wants him\n",
      "R: Comment Text: Pylon, lmao. What a perfect analogy word to use.\n",
      "From all indications, it appears his asthmatic condition was real, and best I can remember never used that as an excuse\n",
      "\n",
      "At the same time, he was never mistaken for let's say Paul Kariya while skating\n",
      "R: Comment Text: I can’t believe anyone that knows anything about hockey would make this post. They are not resigning him. They are planning for years down the road after these horrible contracts and buyouts are done.\n",
      "R: Comment Text: I made it obvious he might not even be part of the plan. Did you read the post? I said two or three times he might not even get signed.\n",
      "R: Comment Text: I read the post. I was too harsh. Clearly it was a salary dump. Johansen has been cooked for some time. Getting nothing back and only paying 4 million a year for two years is a win. Team has to get worse to get better.\n",
      "R: Comment Text: Agreed\n",
      "T: Comment Text: Making a big trade now doesn’t make a lot of sense in my opinion. That’s something that would happen if we were a piece or two away from competing for a Cup. Right now we are fighting to just make the playoffs. \n",
      "\n",
      "I’m more inclined to believe Trotz will try hard to move up in this draft. Maybe he will use his cap space to help that goal. We will know soon enough!\n",
      "T: Comment Text: Man, say what you will about George Plaster, but he called this one.  If the pattern continues, Duchene is next.\n",
      "R: Comment Text: I understand the logic, but I doubt we do it with Duchene. You only need so much cap space. Dumping Duchene would be overkill IMO.\n",
      "R: Comment Text: Agreed, plus Duchene is still a good player. Not worth 8m but a good player\n",
      "R: Comment Text: Unless we are trying to get as bad as possible to get a lottery pick.\n",
      "R: Comment Text: It might be overkill, but I believe Barry is trying to purge the room of all the fat, happy vets who cruised through most of last season, pre-injuries.\n",
      "R: Comment Text: Dutchy did lead the team in goals (yes, Fil would have outpaced him if he had stayed healthier longer) last season.\n",
      "R: Comment Text: He's lead the team in goals two seasons in a row, including scoring the most goals in a single season ever for a Predator.\n",
      "R: Comment Text: Fortunately or unfortunately, Duchene needs Fil healthy with a couple of outlier seasons that has alluded us since Fil been here, in order to score at will like he did 2 seasons ago.\n",
      "\n",
      "There's a lot more to it than that, however the stats don't lie that's for sure\n",
      "\n",
      "I think Mr Obvious would say if Forsberg stayed healthy over the last 5 seasons-ish, he'd easily be a top 15 forward in all the NHL. But the ole' hindsight is 20/20 always comes into play\n",
      "\n",
      "Edited for multiple grammatical errors and an addendum or two\n",
      "T: Comment Text: All they got was cap space. Until we see what they do with the cap space, it remains to be seen how effective the trade was. \n",
      "\n",
      "There’s no reason to think it won’t be. They seem to have a plan. Even if there is no good player to be had, they will get something out of taking a cap dump from another team.\n",
      "\n"
     ]
    }
   ],
   "source": [
    "samp = random.sample(threads, k = 15)\n",
    "print(samp[0])"
   ]
  },
  {
   "cell_type": "code",
   "execution_count": 10,
   "metadata": {},
   "outputs": [],
   "source": [
    "output = []"
   ]
  },
  {
   "cell_type": "code",
   "execution_count": 20,
   "metadata": {},
   "outputs": [
    {
     "name": "stdout",
     "output_type": "stream",
     "text": [
      "New thread analyzed\n",
      "New thread analyzed\n",
      "New thread analyzed\n",
      "New thread analyzed\n",
      "New thread analyzed\n",
      "New thread analyzed\n",
      "New thread analyzed\n",
      "New thread analyzed\n",
      "New thread analyzed\n",
      "New thread analyzed\n",
      "New thread analyzed\n",
      "New thread analyzed\n"
     ]
    },
    {
     "name": "stderr",
     "output_type": "stream",
     "text": [
      "Retrying langchain.llms.openai.completion_with_retry.<locals>._completion_with_retry in 4.0 seconds as it raised RateLimitError: Rate limit reached for gpt-3.5-turbo-1106 in organization org-mZpDGmkoo1WsEP9bv7bbg2OB on tokens per min (TPM): Limit 60000, Used 56784, Requested 3591. Please try again in 375ms. Visit https://platform.openai.com/account/rate-limits to learn more..\n"
     ]
    },
    {
     "name": "stdout",
     "output_type": "stream",
     "text": [
      "New thread analyzed\n",
      "New thread analyzed\n"
     ]
    },
    {
     "name": "stderr",
     "output_type": "stream",
     "text": [
      "Retrying langchain.llms.openai.completion_with_retry.<locals>._completion_with_retry in 4.0 seconds as it raised RateLimitError: Rate limit reached for gpt-3.5-turbo-1106 in organization org-mZpDGmkoo1WsEP9bv7bbg2OB on tokens per min (TPM): Limit 60000, Used 58250, Requested 4192. Please try again in 2.442s. Visit https://platform.openai.com/account/rate-limits to learn more..\n"
     ]
    },
    {
     "name": "stdout",
     "output_type": "stream",
     "text": [
      "New thread analyzed\n"
     ]
    }
   ],
   "source": [
    "## Run on threads\n",
    "## Note: won't store in output, need to learn how to store on to DF\n",
    "for thread in samp:\n",
    "    print(\"New thread analyzed\")\n",
    "    res = overall_chain({\"thread\": thread})\n",
    "    temp = res[\"Aspects_with_sentiment\"]\n",
    "    matches = re.findall(r'\\(([^,]+), ([^)]+)\\)', temp)\n",
    "    result_list = [(match[0], float(match[1])) for match in matches]\n",
    "    output.append(result_list)\n",
    "    "
   ]
  },
  {
   "cell_type": "code",
   "execution_count": 19,
   "metadata": {},
   "outputs": [
    {
     "name": "stdout",
     "output_type": "stream",
     "text": [
      "[('Relevant Aspects', -0.19), ('media coverage', -0.12), ('miscellaneous', 0.12)]\n",
      "Title: Anthem protests?\n",
      "Content: Do we think there will be any protesting going on during the anthem this hockey season? Sorry if this is a hot topic, but I'd like to know how brushed up on my free speech constitutional law cases I need to be when I host watch parties.\n",
      "\n",
      "Comments:\n",
      "T: Comment Text: Of course not, the majority of players aren't even American\n",
      "R: Comment Text: My wife and I played the \"Name the Americans on our team without looking at the roster\" game last night in response to the Tennessean saying they weren't going to protest hahah\n",
      "R: Comment Text: Only ones I know off the top of my head are Bitetto and Smith.\n",
      "R: Comment Text: Watson too!\n",
      "R: Comment Text: Full of Vikings, and hosers.\n",
      "\n",
      "Not many yanks.\n",
      "T: Comment Text: [deleted]\n",
      "R: Comment Text: He said he wouldn't, I hope not.\n",
      "T: Comment Text: If everyone wants politics out of it, then do away with the dog and pony show anthems altogether and just drop the puck, cuz, like it or not, politics and nations tend to go arm in arm.  If not, deal with the fact someone has a different mindset than yours and maybe think about where they're coming from for more than two seconds.  Or ignore it.  Or burn your tickets and jerseys.  There are many options.\n",
      "T: Comment Text: Me @ this subject:\n",
      "\n",
      "https://m.youtube.com/watch?v=MpPvGlrqhdA\n",
      "T: Comment Text: Seriously who gives a shit!? Half the team is from Europe. The other half from America are Canadian. Can we literally not bring politics into this sub that don't involve hockey?\n",
      "R: Comment Text: Agreed. Was jw what the consensus was. I like hockey free from politics.\n",
      "R: Comment Text: But then why bring it up in the first place? Honestly curious. \n",
      "R: Comment Text: Because every black athlete and every team for which they play is going to get asked about it. I don't like it anymore than the rest of y'all, but it's going to come up.\n",
      "R: Comment Text: But the point is if OP and what seems to be a majority of people don't want politics in sports why keep bring it up? This could be the first step of going back to the way it was pre '08.  \n",
      "R: Comment Text: We're all just reading the field, so to speak. It's a conversation that's going to happen whether we like it or not.\n",
      "\n",
      "You're right, I guess, I just don't know that any of us can really avoid it.\n",
      "R: Comment Text: Agreed. And that's why I initially apologized. One of my favorite things about hockey the lack of politics.\n",
      "R: Comment Text: Completly understand. After reading that toxic ass thread in r/hockey I did not want that here. \n",
      "T: Comment Text: No. They will all stand. PK had cleared it. The fact that he had to clear this is beyond me.\n",
      "\n",
      "Just because he's black so he is expected to kneel? Lol\n",
      "\n",
      "It bamboozled me that people expected PK Subban to kneel in his 1st game that he had to explain to the media he is not doing it.\n",
      "\n",
      "Progressives stereotyping and expecting people to act a certain way because of their race is equally bad as racial stereotyping for other, more nefarious purposes.\n",
      "\n",
      "\n",
      "\n",
      "\n",
      "R: Comment Text: People thought PK was going to kneel?  This is laughable.  He's freaking Canadian.\n",
      "R: Comment Text: He's getting slammed all over the Twitter echo chamber. \n",
      "T: Comment Text: As a matter of con law, the protests are undeniably permissible, as would be the league, team, or sponsors banning it. No state action, so no 1st Amendment implications.\n",
      "\n",
      "As a matter of opinion, I don't want this shit infecting hockey. Like, I know many of my fellow Preds fans aren't with me politically. That's why I love sports. People who completely disagree on nearly everything can join together in screaming \"CRAAAAAAAAAAWFORD, CRAAAAAAAAAWFORD, CRAAAAAAAAAAAWFORD, YOU SUCK, ITS ALL YOUR FAULT, ITS ALL YOUR FAULT, ITS ALL YOUR FAULT\" at the top of our lungs. It brings us all together. The cup run got me to read a copy of the Nashville Scene. Just for the one article, sure, but...I wouldn't have touched that thing with a 30 foot pole if it hadn't been for our boys in gold. \n",
      "T: Comment Text: I'm not going to get into whether they should, or shouldn't, but hockey culture is all about the team, the \"good old boys\" and not rocking the boat.  To an extreme.  Anyone who expected *anything* approaching the level of the NFL/NBA has no idea, really.\n",
      "\n",
      "We've seen what's happened to some players in the NHL for a lot less controversial things.  \n",
      "\n",
      "I will say for those who hate to see politics and hockey intertwined: the most famous hockey game in history is that way largely because of its political significance.\n",
      "R: Comment Text: What is the most famous game in hockey history? \n",
      "R: Comment Text: Either 1980 miracle on ice or 1968 Summit Series between the USSR and Canada.\n",
      "R: Comment Text: Oh duh. My mind was stuck on nhl games.thanks\n",
      "R: Comment Text: Yeah I'm not even sure what the most famous NHL game would be. Definitely depends on the person/fanbase.\n",
      "T: Comment Text: I respect their right to, however I hope and expect them not to. Most aren't from the US anyway.\n",
      "T: Comment Text: I hope not.  I just want to watch sports without any fucking politics.\n",
      "R: Comment Text: Sports and politics have been intertwined forever, especially regarding racial issues. \n",
      "T: Comment Text: Can’t protest during the anthem in hockey. Your knees would get cold.\n",
      "T: Comment Text: Might happen. Wouldn't expect it. Ignore it and move on.  You're there to watch hockey, just remind any idiots that wanna get loud about that.\n",
      "\n"
     ]
    }
   ],
   "source": [
    "print(output[5])\n",
    "print(samp[5])"
   ]
  },
  {
   "cell_type": "code",
   "execution_count": 21,
   "metadata": {},
   "outputs": [],
   "source": [
    "lengths = []\n",
    "for post in threads:\n",
    "    lengths.append(len(post))"
   ]
  },
  {
   "cell_type": "code",
   "execution_count": 23,
   "metadata": {},
   "outputs": [
    {
     "name": "stdout",
     "output_type": "stream",
     "text": [
      "55031\n"
     ]
    }
   ],
   "source": [
    "print(max(lengths))"
   ]
  },
  {
   "cell_type": "code",
   "execution_count": 25,
   "metadata": {},
   "outputs": [],
   "source": [
    "word_counts = [len(sentence.split()) for sentence in threads]\n",
    "max_word_count = max(word_counts)\n",
    "max_index = word_counts.index(max_word_count)"
   ]
  },
  {
   "cell_type": "code",
   "execution_count": 26,
   "metadata": {},
   "outputs": [
    {
     "data": {
      "text/plain": [
       "1996"
      ]
     },
     "execution_count": 26,
     "metadata": {},
     "output_type": "execute_result"
    }
   ],
   "source": [
    "max_index"
   ]
  },
  {
   "cell_type": "code",
   "execution_count": 28,
   "metadata": {},
   "outputs": [
    {
     "data": {
      "text/plain": [
       "Unnamed: 0.1                                                 2846\n",
       "Unnamed: 0                                                    174\n",
       "id                                                         j9swsp\n",
       "Title           Warning: R/Predators \"Official\" Discord Server...\n",
       "Content         I have brought this up to individual /r/Predat...\n",
       "Author                                                 DieHippies\n",
       "Post Date                                     2020-10-12 15:25:59\n",
       "Name: 1996, dtype: object"
      ]
     },
     "execution_count": 28,
     "metadata": {},
     "output_type": "execute_result"
    }
   ],
   "source": [
    "preds_posts.iloc[1996]"
   ]
  },
  {
   "cell_type": "code",
   "execution_count": 12,
   "metadata": {},
   "outputs": [
    {
     "name": "stdout",
     "output_type": "stream",
     "text": [
      "Title: Hear me out\n",
      "Content: I know it’s late in the season but do you think it’s too late to try to shake up the team? The JOFA line is undoubtedly our best producing line and teams know if they can shut them down our other lines haven’t been producing. But what if we spread the talent of the JOFA line around to boost our other lines? I know the chemistry on our top line is great but do you think a change could jumpstart our other lines? \r\n",
      "\r\n",
      "Ex. \r\n",
      "\r\n",
      "     Forsberg Boyle Jarnkrok\r\n",
      "\r\n",
      "     Grimaldi Johansson Sissons\r\n",
      "\r\n",
      "     Arvidsson Bonino Smith\r\n",
      "\r\n",
      "     Fiala Turris Hartman\r\n",
      "\r\n",
      "\r\n",
      "\r\n",
      "Would this help or hurt our chances? Have we reached a point where this is worth a shot?\n",
      "\n",
      "Comments:\n",
      "T: Comment Text: We need to make the bottom 3 better, not make the first one worse. I get your idea, though. \n",
      "R: Comment Text: Good point. I’ve just been trying to think of what the team could do short of making a big trade. \n",
      "R: Comment Text: I disagree here. We have the players that make for quality 3rd and 4th lines. It's our second line scoring threat that really feels like it's lacking. \n",
      "T: Comment Text: RV on the 3rd line is criminal \n",
      "R: Comment Text: I was just trying to spit JOFA into the other lines. I wouldn’t really put Forsberg or Joey there either, just a thought.\n",
      "R: Comment Text: So is Boyle as our 1C\n",
      "T: Comment Text: My fear would be that the JOFA line is so good because those 3 have great chemistry together. \n",
      "\n",
      "Johansen is an excellent playmaker to set up great passes and scoring attempts.\n",
      "\n",
      "Forsberg has unreal talent and can slice and dice the opposing team which is something they have to account for when he's out there.\n",
      "\n",
      "RV is RV and will burn the shit out of you.\n",
      "\n",
      "I don't know how well they would work split up, and if moving them around removes that dynamic without increasing overall production, RIP. It's hard for me to believe that splitting them up not only maintains the current level but increases it. \n",
      "\n",
      "As others have said, the other lines need to step it because the JOFA line can't carry the team.\n",
      "T: Comment Text: If we start consistently losing more than we’re winning I’d be open to it\n",
      "R: Comment Text: Yeah that’s why I’m hesitant to suggest breaking up the one good thing we seem to have going. \n",
      "R: Comment Text: I mean what’s the worst that could happen? We lose again?\n",
      "T: Comment Text: Didn't the Avs do something like this breaking up their highly productive 1st line at one point this year? Anyone know how that worked out for them as a point of comparison?\n",
      "R: Comment Text: I thought that only lasted a game or two and it didn’t stop their skid.\n",
      "R: Comment Text: I just remember seeing people talking about it on reddit, I didn't really follow it. \n",
      "R: Comment Text: I remember something about the oilers (I think) doing this earlier this season. Not sure how it turned out but it did give me the idea.\n",
      "T: Comment Text: [deleted]\n",
      "R: Comment Text: Lack of PP and defensive lapses are definitely killing us. I was thinking this was more of a solution to teams shutting down our first line and maybe having a top line player will motivate or provide lower lines with a player that has been producing. Maybe now that Fiala and Hartman have ended their drought they will start showing up more consistently.\n",
      "T: Comment Text: god no \n",
      "T: Comment Text: I'm down for experimenting with changing a little but but the example is too dramatic. There wouldn't be much chemistry and the roles are off. And you can't put RV on 3rd line just because the rest of the team sucks. He's top 2 minimum. But I get what you're saying and agree it could be worth a shot\n",
      "R: Comment Text: Yeah the lines I used were pretty rough. I was really just trying to think of lines that might work, not necessarily in order from the top line down. \n",
      "R: Comment Text: Ah that makes sense. I'm thinking something more subtle like Filip or RV on second, giving turris someone to dish to that can finish, and promoting maybe a fiala to 1st to get his goal scoring ways back. 3rd and 4th depends how the first two do. Maybe 2nd and 3rd can switch one. Another thing to look at is the defense.... Ellis has been so bad all year, he deserves to be healthy scratched. Hopefully that'll light a fire under him or something\n",
      "R: Comment Text: I’m not sure what’s going on with Ellis, Maybe Carrier or Allard can get him back on track after sitting a couple out. \n",
      "T: Comment Text: I actually like this idea, but keep JOFA together.\n",
      "\n",
      "Smurf got pushed around pretty badly last at the end of the regular season and the playoffs. I think having a responsible penalty killer like Bones or Jarnkrok on the same line as Fiala would be excellent to limit the blowback from his errors at times (I think he's been playing better lately, seriousy. I don't hate the kid but he DOES make bad errors). \n",
      "\n",
      "We are likely still not sure who Boyle works best with. Should he be with players like Grimaldi and Hartman to make up for his speed? Maybe he should be placed with Fiala or Smith and we let them rip shots since he screens the goaltender so well. Definitely an interesting topic. \n",
      "\n",
      "R: Comment Text: I would say let’s try this out on a low ranked team but they always seem to have our number. I cant wait to see Boyle find his niche. I liked the game the other night where he was on a line with Rocco.\n",
      "T: Comment Text: PP needs to improve but it’s lacking because we aren’t organized on any type of attack in any offensive situation. \n",
      "\n",
      "Shoot ins are the go to strategy and then nothing materializes because our offense is predictable. \n",
      "\n",
      "Passing is sloppy. Or someone’s shooting when they need to be more patient. \n",
      "\n",
      "Our physicality is non existent. \n",
      "\n",
      "My worry is that some people are getting frustrated with their own stat lines and are taking matters into their own hands to have production for themselves and not worrying about the score of the game. \n",
      "\n",
      "Just some observation on my behalf.\n",
      "T: Comment Text: Keep JOFA together, but I feel like the rest of the lines need to be mixed around until something sticks. Bonino might be the go-to guy at 2C. Other than that, it's fair game to me.\n",
      "\n"
     ]
    }
   ],
   "source": [
    "print(samp[0])"
   ]
  }
 ],
 "metadata": {
  "kernelspec": {
   "display_name": "Python 3 (ipykernel)",
   "language": "python",
   "name": "python3"
  },
  "language_info": {
   "codemirror_mode": {
    "name": "ipython",
    "version": 3
   },
   "file_extension": ".py",
   "mimetype": "text/x-python",
   "name": "python",
   "nbconvert_exporter": "python",
   "pygments_lexer": "ipython3",
   "version": "3.9.13"
  },
  "vscode": {
   "interpreter": {
    "hash": "5206b32b5f345ee646df70bcbe011cac435e70d5fa1022839ac50730ea7455ea"
   }
  }
 },
 "nbformat": 4,
 "nbformat_minor": 2
}
