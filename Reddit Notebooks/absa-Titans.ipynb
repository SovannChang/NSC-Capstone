{
 "cells": [
  {
   "cell_type": "markdown",
   "metadata": {},
   "source": [
    "# ABSA on Titans Threads"
   ]
  },
  {
   "cell_type": "code",
   "execution_count": null,
   "metadata": {},
   "outputs": [],
   "source": [
    "## Load libraries\n",
    "from langchain.llms.openai import OpenAI\n",
    "from langchain.chains import LLMChain\n",
    "from langchain.prompts import PromptTemplate\n",
    "from langchain.prompts.few_shot import FewShotPromptTemplate\n",
    "from langchain.chains import SequentialChain\n",
    "import openai\n",
    "from getpass import getpass\n",
    "import os\n",
    "import warnings\n",
    "import pandas as pd\n",
    "import re\n",
    "\n",
    "warnings.filterwarnings(\"ignore\")"
   ]
  },
  {
   "cell_type": "code",
   "execution_count": null,
   "metadata": {},
   "outputs": [],
   "source": [
    "## Load data\n",
    "titans_posts = pd.read_csv('../Reddit Data/tt_posts.csv')\n",
    "titans_comments = pd.read_csv('../Reddit Data/tt_comments.csv')"
   ]
  },
  {
   "cell_type": "code",
   "execution_count": null,
   "metadata": {},
   "outputs": [],
   "source": [
    "## Load helper functions\n",
    "class Post:\n",
    "    def __init__(self, post_id, title, content):\n",
    "        self.post_id = post_id\n",
    "        self.title = title\n",
    "        self.content = content\n",
    "        self.comments = []\n",
    "\n",
    "class Comment:\n",
    "    def __init__(self, comment_id, text, post_id):\n",
    "        self.comment_id = comment_id\n",
    "        self.text = text\n",
    "        self.post_id = post_id  # Store the post_id\n",
    "        self.parent_comment = None\n",
    "        self.replies = []\n",
    "\n",
    "# Create dictionaries to map post IDs to Post objects and comment IDs to Comment objects.\n",
    "posts_dict = {}\n",
    "comments_dict = {}\n",
    "\n",
    "# Populate posts_dict and comments_dict from your dataframes.\n",
    "for post_row in titans_posts.itertuples():\n",
    "    post_id = post_row.id\n",
    "    title = post_row.Title\n",
    "    content = post_row.Content\n",
    "    post = Post(post_id, title, content)\n",
    "    posts_dict[post_id] = post\n",
    "\n",
    "\n",
    "comments_df = titans_comments.rename(columns={\n",
    "    'Comment ID': 'Comment_ID',\n",
    "    'Parent Comment ID': 'Parent_Comment_ID',\n",
    "    'Text': 'Text',\n",
    "    'Author': 'Author',\n",
    "    'Date': 'Date',\n",
    "    'Post ID': 'Post_ID'\n",
    "})\n",
    "\n",
    "# Now the columns have underscores instead of spaces, making it easier to access them.\n",
    "\n",
    "# You can use the updated column names directly in your code as follows:\n",
    "for comment_row in comments_df.itertuples():\n",
    "    comment_id = comment_row.Comment_ID\n",
    "    text = comment_row.Text\n",
    "    post_id = comment_row.Post_ID  # Store the post_id\n",
    "    comment = Comment(comment_id, text, post_id)\n",
    "    comments_dict[comment_id] = comment\n",
    "\n",
    "    # Assign parent comment if it exists.\n",
    "    parent_comment_id = comment_row.Parent_Comment_ID\n",
    "    if not pd.isna(parent_comment_id):\n",
    "        parent_comment = comments_dict.get(parent_comment_id)\n",
    "        if parent_comment:\n",
    "            comment.parent_comment = parent_comment\n",
    "            parent_comment.replies.append(comment)\n",
    "\n",
    "# Function to get the full thread for a given post and its comments\n",
    "def get_thread_for_post(post, comments_dict):\n",
    "    thread = f\"Title: {post.title}\\nContent: {post.content}\\n\\nComments:\\n\"\n",
    "    \n",
    "    for comment_id, comment in comments_dict.items():\n",
    "        if comment.post_id == post.post_id:\n",
    "            if comment.parent_comment is None:\n",
    "                indicator = \"T:\"  # Top-level comment indicator\n",
    "            else:\n",
    "                indicator = \"R:\"  # Reply indicator\n",
    "            # Add the comment to the thread\n",
    "            thread += f\"{indicator} Comment Text: {comment.text}\\n\"\n",
    "\n",
    "    return thread"
   ]
  },
  {
   "cell_type": "code",
   "execution_count": null,
   "metadata": {},
   "outputs": [],
   "source": [
    "## Set up OpenAI Key\n",
    "OPENAI_API_KEY = getpass()\n",
    "os.environ[\"OPENAI_API_KEY\"] = OPENAI_API_KEY\n",
    "openai.api_key = os.getenv(\"OPENAI_API_KEY\")\n",
    "llm = OpenAI(temperature = 0.7)"
   ]
  },
  {
   "cell_type": "code",
   "execution_count": null,
   "metadata": {},
   "outputs": [],
   "source": [
    "## Aspect Extraction Chain\n",
    "examples = [{\n",
    "    \"thread\": '''\n",
    "    Title: First Titans game!\n",
    "    Content: Went to my first game this weekend and had so much fun! The crowd made the game so exiting and the team played so well. Derrick Henry had such a great game!\n",
    "    Comments: \n",
    "    T: Comment Text: Glad you had fun! Games are always fun, but definitely better when we win. We just gotta hope the team and coaches keep it up!\n",
    "    T: Comment Text: It was my first game too. The stadium was so much cooler than I ever expected. The food was way too expensive though!\n",
    "    R: Comment Text: I agree, prices for food are way too high! Only worth it when we are winning!\n",
    "    ''',\n",
    "    \"aspects\": \"Relevant Aspects are Titans team performance, pricing, and stadium atmosphere.\"\n",
    "},\n",
    "{\n",
    "    \"thread\": '''\n",
    "    Title: New coach?\n",
    "    Content: We have had a rough start to the season and it may be a time for change. Do we give Vrabel the rest of the year or hit the reset button now?\n",
    "    Comments: \n",
    "    T: Comment Text: I agree it hasn't been up to our standards, but I think we have to have faith and trust Coach Vrabel!\n",
    "    R: Comment Text: I disagree, he should be fired.\n",
    "    T: Comment Text: Sometimes coaches can be used as a scapegoat. We need to give it a bit longer and let the players gel together in this system.\n",
    "    T: Comment Text: Trust the process. Our coaches and players will bring it together and we can make a playoff push. It is our job as fans to pack Nissan and help motivate them to perform!\n",
    "    R: Comment Text: While I agree with packing Nissan Stadium, shouldn't they be motivated already?\n",
    "    R: Comment Text: The crowd has been quiet recently. Let's get loud and encourage our boys!\n",
    "    ''',\n",
    "    \"aspects\": \"Relevant Aspects are Titans team performance, coaching, and stadium atmosphere.\"\n",
    "}]\n",
    "\n",
    "prompt_template = '''\n",
    "Thread: {thread}\n",
    "{aspects}\n",
    "'''\n",
    "\n",
    "example_prompt = PromptTemplate(input_variables = [\"thread\", \"aspects\"], template = prompt_template)\n",
    "\n",
    "final_prompt = FewShotPromptTemplate(\n",
    "    examples = examples,\n",
    "    example_prompt = example_prompt,\n",
    "    suffix = \"Thread: {thread}\\n\",\n",
    "    input_variables = [\"thread\"],\n",
    "    prefix = '''\n",
    "    I am extracting aspects from a Reddit Thread made by Tennessee Titans fans. The Tennesse Titans are a football team that play at their stadium: Nissan Stadium in Nashville, Tennessee. Their coach is Mike Vrabel and their key players are Derrick Henry, Ryan Tannehill, Will Levis, DeAndre Hopkins, Peter Skoronski, Jeffery Simmons, Treylon Burks, Kevin Byard,  Any other player names that are given, assume they are on an opposing team.\n",
    "For this conversational thread, please return a list of the following aspects of fan experience: Titans team performance, stadium amenities, coaching, pricing, stadium atmosphere, and media coverage. A note: stadium amenities include food and the gift shop. If none of these aspects are present, determine what the topic of the conversation is and proceed with this as the aspect.\n",
    "The structure of the post will be as follows. Title is the general title made of the original post. Content is the text from the original post. Comments will be all comments on the post. Any comment labelled as \"T: Comment Text:\" is a top-level comment, so use the original post and content as the context for this comment. Any comment labelled as \"R: Comment Text:\" is a reply comment, so use all the comments above it until you hit a top-level comment, as well as the original post and content as the context for this comment. If the Content of a post is \"nan\" that means the post was an image. For any of these posts, just consider the post title and comments, ignoring the \"nan\" content.\n",
    "Additionally, when the newline operator '\\n' is present, this means that it is the end of that respective post section. This will work as a seperator to help distinguish posts from comments and so on.\n",
    "    ''')\n",
    "\n",
    "aspect_extraction_chain = LLMChain(llm = llm, prompt = final_prompt, output_key = 'aspects')"
   ]
  },
  {
   "cell_type": "code",
   "execution_count": null,
   "metadata": {},
   "outputs": [],
   "source": [
    "## Sentiment Analysis Chain\n",
    "prompt_template2 = '''\n",
    "Given below thread and the extracted aspects, tell me about the sentiment of those aspects. This sentiment should be on a continuous scale of -1 to 1, where -1 is the most negative, 0 is the most neutral, and 1 is the most postive. Round the score to 2 decimal places. Follow this format: (aspect, sentiment_score).\n",
    "Thread: {thread}\n",
    "Aspects: {aspects}\n",
    "[(Aspect1, Sentiment_Score_1), (Aspect2, Sentiment_Score_2),.....]\n",
    "'''\n",
    "\n",
    "example_prompt2 = PromptTemplate(input_variables = [\"thread\", \"aspects\"], template = prompt_template2)\n",
    "\n",
    "aspect_sentiment_chain = LLMChain(llm = llm, prompt = example_prompt2, output_key = \"Aspects_with_sentiment\")"
   ]
  },
  {
   "cell_type": "code",
   "execution_count": null,
   "metadata": {},
   "outputs": [],
   "source": [
    "## Full Sequential Chain\n",
    "overall_chain = SequentialChain(\n",
    "    chains = [aspect_extraction_chain, aspect_sentiment_chain],\n",
    "    input_variables = [\"thread\"],\n",
    "    output_variables = [\"thread\", \"aspects\", \"Aspects_with_sentiment\"],\n",
    "    verbose = False\n",
    ")"
   ]
  },
  {
   "cell_type": "code",
   "execution_count": null,
   "metadata": {},
   "outputs": [],
   "source": [
    "## Store threads\n",
    "threads = []\n",
    "for post_id, post in posts_dict.items():\n",
    "    thread = get_thread_for_post(post, comments_dict)\n",
    "    threads.append(thread)"
   ]
  },
  {
   "cell_type": "code",
   "execution_count": null,
   "metadata": {},
   "outputs": [],
   "source": [
    "## Run on threads\n",
    "## Note: won't store in output, need to learn how to store on to DF\n",
    "output = []\n",
    "for thread in threads:\n",
    "    res = overall_chain({\"thread\": thread})\n",
    "    temp = res[\"Aspects_with_sentiment\"]\n",
    "    matches = re.findall(r'\\(([^,]+), ([^)]+)\\)', temp)\n",
    "    result_list = [(match[0], float(match[1])) for match in matches]\n",
    "    output.append(result_list)"
   ]
  }
 ],
 "metadata": {
  "kernelspec": {
   "display_name": "Python 3.9.13 ('base')",
   "language": "python",
   "name": "python3"
  },
  "language_info": {
   "name": "python",
   "version": "3.9.13"
  },
  "orig_nbformat": 4,
  "vscode": {
   "interpreter": {
    "hash": "5206b32b5f345ee646df70bcbe011cac435e70d5fa1022839ac50730ea7455ea"
   }
  }
 },
 "nbformat": 4,
 "nbformat_minor": 2
}
