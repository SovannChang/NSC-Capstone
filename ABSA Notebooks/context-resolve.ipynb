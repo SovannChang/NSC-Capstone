{
 "cells": [
  {
   "cell_type": "markdown",
   "metadata": {},
   "source": [
    "# Checking Context Lengths"
   ]
  },
  {
   "cell_type": "code",
   "execution_count": 1,
   "metadata": {},
   "outputs": [],
   "source": [
    "## Load libraries\n",
    "import os\n",
    "import warnings\n",
    "import pandas as pd\n",
    "import re\n",
    "import random\n",
    "import cleantext\n",
    "import time\n",
    "\n",
    "warnings.filterwarnings(\"ignore\")"
   ]
  },
  {
   "cell_type": "markdown",
   "metadata": {},
   "source": [
    "## Titans"
   ]
  },
  {
   "cell_type": "code",
   "execution_count": 2,
   "metadata": {},
   "outputs": [],
   "source": [
    "## Load data\n",
    "tt_posts = pd.read_csv('../Reddit Data/tt_posts_clean.csv')\n",
    "tt_comments = pd.read_csv('../Reddit Data/tt_comments_clean.csv')"
   ]
  },
  {
   "cell_type": "code",
   "execution_count": 14,
   "metadata": {},
   "outputs": [],
   "source": [
    "## Load helper functions\n",
    "class Post:\n",
    "    def __init__(self, post_id, title, content):\n",
    "        self.post_id = post_id\n",
    "        self.title = title\n",
    "        self.content = content\n",
    "        self.comments = []\n",
    "\n",
    "class Comment:\n",
    "    def __init__(self, comment_id, text, post_id):\n",
    "        self.comment_id = comment_id\n",
    "        self.text = text\n",
    "        self.post_id = post_id  # Store the post_id\n",
    "        self.parent_comment = None\n",
    "        self.replies = []\n",
    "\n",
    "# Create dictionaries to map post IDs to Post objects and comment IDs to Comment objects.\n",
    "posts_dict = {}\n",
    "comments_dict = {}\n",
    "\n",
    "# Populate posts_dict and comments_dict from your dataframes.\n",
    "for post_row in tt_posts.itertuples():\n",
    "    post_id = post_row.id\n",
    "    title = post_row.Title\n",
    "    content = post_row.Content\n",
    "    post = Post(post_id, title, content)\n",
    "    posts_dict[post_id] = post\n",
    "\n",
    "\n",
    "comments_df = tt_comments.rename(columns={\n",
    "    'Comment ID': 'Comment_ID',\n",
    "    'Parent Comment ID': 'Parent_Comment_ID',\n",
    "    'Text': 'Text',\n",
    "    'Author': 'Author',\n",
    "    'Date': 'Date',\n",
    "    'Post ID': 'Post_ID'\n",
    "})\n",
    "\n",
    "# Now the columns have underscores instead of spaces, making it easier to access them.\n",
    "\n",
    "# You can use the updated column names directly in your code as follows:\n",
    "for comment_row in comments_df.itertuples():\n",
    "    comment_id = comment_row.Comment_ID\n",
    "    text = comment_row.Text\n",
    "    post_id = comment_row.Post_ID  # Store the post_id\n",
    "    comment = Comment(comment_id, text, post_id)\n",
    "    comments_dict[comment_id] = comment\n",
    "\n",
    "    # Assign parent comment if it exists.\n",
    "    parent_comment_id = comment_row.Parent_Comment_ID\n",
    "    if not pd.isna(parent_comment_id):\n",
    "        parent_comment = comments_dict.get(parent_comment_id)\n",
    "        if parent_comment:\n",
    "            comment.parent_comment = parent_comment\n",
    "            parent_comment.replies.append(comment)\n",
    "\n",
    "# Function to get the full thread for a given post and its comments\n",
    "def get_thread_for_post(post, comments_dict):\n",
    "    thread = f\"Title: {post.title}\\nContent: {post.content}\\n\\nComments:\\n\"\n",
    "    \n",
    "    for comment_id, comment in comments_dict.items():\n",
    "        if comment.post_id == post.post_id:\n",
    "            if comment.parent_comment is None:\n",
    "                indicator = \"T:\"  # Top-level comment indicator\n",
    "            else:\n",
    "                indicator = \"R:\"  # Reply indicator\n",
    "            # Add the comment to the thread\n",
    "            thread += f\"{indicator} Comment Text: {comment.text}\\n\"\n",
    "            \n",
    "    thread_no_urls = cleantext.replace_urls(thread, replace_with=\"<URL>\")\n",
    "    return thread_no_urls"
   ]
  },
  {
   "cell_type": "code",
   "execution_count": 15,
   "metadata": {},
   "outputs": [],
   "source": [
    "## Store threads\n",
    "tt_threads = []\n",
    "for post_id, post in posts_dict.items():\n",
    "    thread = get_thread_for_post(post, comments_dict)\n",
    "    tt_threads.append(thread)"
   ]
  },
  {
   "cell_type": "code",
   "execution_count": 16,
   "metadata": {},
   "outputs": [
    {
     "data": {
      "text/plain": [
       "30232"
      ]
     },
     "execution_count": 16,
     "metadata": {},
     "output_type": "execute_result"
    }
   ],
   "source": [
    "tt_word_counts = [len(post.split()) for post in tt_threads]\n",
    "max(tt_word_counts)"
   ]
  },
  {
   "cell_type": "markdown",
   "metadata": {},
   "source": [
    "## NSC"
   ]
  },
  {
   "cell_type": "code",
   "execution_count": 6,
   "metadata": {},
   "outputs": [],
   "source": [
    "## Load data\n",
    "nsc_posts = pd.read_csv('../Reddit Data/nsc_posts_clean.csv')\n",
    "nsc_comments = pd.read_csv('../Reddit Data/nsc_comments_clean.csv')"
   ]
  },
  {
   "cell_type": "code",
   "execution_count": 17,
   "metadata": {},
   "outputs": [],
   "source": [
    "## Load helper functions\n",
    "class Post:\n",
    "    def __init__(self, post_id, title, content):\n",
    "        self.post_id = post_id\n",
    "        self.title = title\n",
    "        self.content = content\n",
    "        self.comments = []\n",
    "\n",
    "class Comment:\n",
    "    def __init__(self, comment_id, text, post_id):\n",
    "        self.comment_id = comment_id\n",
    "        self.text = text\n",
    "        self.post_id = post_id  # Store the post_id\n",
    "        self.parent_comment = None\n",
    "        self.replies = []\n",
    "\n",
    "# Create dictionaries to map post IDs to Post objects and comment IDs to Comment objects.\n",
    "posts_dict = {}\n",
    "comments_dict = {}\n",
    "\n",
    "# Populate posts_dict and comments_dict from your dataframes.\n",
    "for post_row in nsc_posts.itertuples():\n",
    "    post_id = post_row.id\n",
    "    title = post_row.Title\n",
    "    content = post_row.Content\n",
    "    post = Post(post_id, title, content)\n",
    "    posts_dict[post_id] = post\n",
    "\n",
    "\n",
    "comments_df = nsc_comments.rename(columns={\n",
    "    'Comment ID': 'Comment_ID',\n",
    "    'Parent Comment ID': 'Parent_Comment_ID',\n",
    "    'Text': 'Text',\n",
    "    'Author': 'Author',\n",
    "    'Date': 'Date',\n",
    "    'Post ID': 'Post_ID'\n",
    "})\n",
    "\n",
    "# Now the columns have underscores instead of spaces, making it easier to access them.\n",
    "\n",
    "# You can use the updated column names directly in your code as follows:\n",
    "for comment_row in comments_df.itertuples():\n",
    "    comment_id = comment_row.Comment_ID\n",
    "    text = comment_row.Text\n",
    "    post_id = comment_row.Post_ID  # Store the post_id\n",
    "    comment = Comment(comment_id, text, post_id)\n",
    "    comments_dict[comment_id] = comment\n",
    "\n",
    "    # Assign parent comment if it exists.\n",
    "    parent_comment_id = comment_row.Parent_Comment_ID\n",
    "    if not pd.isna(parent_comment_id):\n",
    "        parent_comment = comments_dict.get(parent_comment_id)\n",
    "        if parent_comment:\n",
    "            comment.parent_comment = parent_comment\n",
    "            parent_comment.replies.append(comment)\n",
    "\n",
    "# Function to get the full thread for a given post and its comments\n",
    "def get_thread_for_post(post, comments_dict):\n",
    "    thread = f\"Title: {post.title}\\nContent: {post.content}\\n\\nComments:\\n\"\n",
    "    \n",
    "    for comment_id, comment in comments_dict.items():\n",
    "        if comment.post_id == post.post_id:\n",
    "            if comment.parent_comment is None:\n",
    "                indicator = \"T:\"  # Top-level comment indicator\n",
    "            else:\n",
    "                indicator = \"R:\"  # Reply indicator\n",
    "            # Add the comment to the thread\n",
    "            thread += f\"{indicator} Comment Text: {comment.text}\\n\"\n",
    "            \n",
    "    thread_no_urls = cleantext.replace_urls(thread, replace_with=\"<URL>\")\n",
    "    return thread_no_urls"
   ]
  },
  {
   "cell_type": "code",
   "execution_count": 18,
   "metadata": {},
   "outputs": [],
   "source": [
    "## Store threads\n",
    "nsc_threads = []\n",
    "for post_id, post in posts_dict.items():\n",
    "    thread = get_thread_for_post(post, comments_dict)\n",
    "    nsc_threads.append(thread)"
   ]
  },
  {
   "cell_type": "code",
   "execution_count": 19,
   "metadata": {},
   "outputs": [
    {
     "data": {
      "text/plain": [
       "10412"
      ]
     },
     "execution_count": 19,
     "metadata": {},
     "output_type": "execute_result"
    }
   ],
   "source": [
    "nsc_word_counts = [len(post.split()) for post in nsc_threads]\n",
    "max(nsc_word_counts)"
   ]
  },
  {
   "cell_type": "markdown",
   "metadata": {},
   "source": [
    "## Preds"
   ]
  },
  {
   "cell_type": "code",
   "execution_count": 10,
   "metadata": {},
   "outputs": [],
   "source": [
    "## Load data\n",
    "preds_posts = pd.read_csv('../Reddit Data/preds_posts_clean.csv')\n",
    "preds_comments = pd.read_csv('../Reddit Data/preds_comments_clean.csv')"
   ]
  },
  {
   "cell_type": "code",
   "execution_count": 20,
   "metadata": {},
   "outputs": [],
   "source": [
    "## Load helper functions\n",
    "class Post:\n",
    "    def __init__(self, post_id, title, content):\n",
    "        self.post_id = post_id\n",
    "        self.title = title\n",
    "        self.content = content\n",
    "        self.comments = []\n",
    "\n",
    "class Comment:\n",
    "    def __init__(self, comment_id, text, post_id):\n",
    "        self.comment_id = comment_id\n",
    "        self.text = text\n",
    "        self.post_id = post_id  # Store the post_id\n",
    "        self.parent_comment = None\n",
    "        self.replies = []\n",
    "\n",
    "# Create dictionaries to map post IDs to Post objects and comment IDs to Comment objects.\n",
    "posts_dict = {}\n",
    "comments_dict = {}\n",
    "\n",
    "# Populate posts_dict and comments_dict from your dataframes.\n",
    "for post_row in preds_posts.itertuples():\n",
    "    post_id = post_row.id\n",
    "    title = post_row.Title\n",
    "    content = post_row.Content\n",
    "    post = Post(post_id, title, content)\n",
    "    posts_dict[post_id] = post\n",
    "\n",
    "\n",
    "comments_df = preds_comments.rename(columns={\n",
    "    'Comment ID': 'Comment_ID',\n",
    "    'Parent Comment ID': 'Parent_Comment_ID',\n",
    "    'Text': 'Text',\n",
    "    'Author': 'Author',\n",
    "    'Date': 'Date',\n",
    "    'Post ID': 'Post_ID'\n",
    "})\n",
    "\n",
    "# Now the columns have underscores instead of spaces, making it easier to access them.\n",
    "\n",
    "# You can use the updated column names directly in your code as follows:\n",
    "for comment_row in comments_df.itertuples():\n",
    "    comment_id = comment_row.Comment_ID\n",
    "    text = comment_row.Text\n",
    "    post_id = comment_row.Post_ID  # Store the post_id\n",
    "    comment = Comment(comment_id, text, post_id)\n",
    "    comments_dict[comment_id] = comment\n",
    "\n",
    "    # Assign parent comment if it exists.\n",
    "    parent_comment_id = comment_row.Parent_Comment_ID\n",
    "    if not pd.isna(parent_comment_id):\n",
    "        parent_comment = comments_dict.get(parent_comment_id)\n",
    "        if parent_comment:\n",
    "            comment.parent_comment = parent_comment\n",
    "            parent_comment.replies.append(comment)\n",
    "\n",
    "# Function to get the full thread for a given post and its comments\n",
    "def get_thread_for_post(post, comments_dict):\n",
    "    thread = f\"Title: {post.title}\\nContent: {post.content}\\n\\nComments:\\n\"\n",
    "    \n",
    "    for comment_id, comment in comments_dict.items():\n",
    "        if comment.post_id == post.post_id:\n",
    "            if comment.parent_comment is None:\n",
    "                indicator = \"T:\"  # Top-level comment indicator\n",
    "            else:\n",
    "                indicator = \"R:\"  # Reply indicator\n",
    "            # Add the comment to the thread\n",
    "            thread += f\"{indicator} Comment Text: {comment.text}\\n\"\n",
    "            \n",
    "    thread_no_urls = cleantext.replace_urls(thread, replace_with=\"<URL>\")\n",
    "    return thread_no_urls"
   ]
  },
  {
   "cell_type": "code",
   "execution_count": 21,
   "metadata": {},
   "outputs": [],
   "source": [
    "## Store threads\n",
    "preds_threads = []\n",
    "for post_id, post in posts_dict.items():\n",
    "    thread = get_thread_for_post(post, comments_dict)\n",
    "    preds_threads.append(thread)"
   ]
  },
  {
   "cell_type": "code",
   "execution_count": 22,
   "metadata": {},
   "outputs": [
    {
     "data": {
      "text/plain": [
       "7784"
      ]
     },
     "execution_count": 22,
     "metadata": {},
     "output_type": "execute_result"
    }
   ],
   "source": [
    "preds_word_counts = [len(post.split()) for post in preds_threads]\n",
    "max(preds_word_counts)"
   ]
  },
  {
   "cell_type": "code",
   "execution_count": 24,
   "metadata": {},
   "outputs": [
    {
     "data": {
      "text/plain": [
       "9"
      ]
     },
     "execution_count": 24,
     "metadata": {},
     "output_type": "execute_result"
    }
   ],
   "source": [
    "# How many over 10,000\n",
    "count_over = sum(1 for count in tt_word_counts if count > 10412)\n",
    "count_over"
   ]
  },
  {
   "cell_type": "code",
   "execution_count": 25,
   "metadata": {},
   "outputs": [
    {
     "data": {
      "text/plain": [
       "[21, 42, 84, 121, 931, 1034, 1150, 1452, 1555]"
      ]
     },
     "execution_count": 25,
     "metadata": {},
     "output_type": "execute_result"
    }
   ],
   "source": [
    "idx_over = [i for i, count in enumerate(tt_word_counts) if count > 10412]\n",
    "idx_over"
   ]
  },
  {
   "cell_type": "code",
   "execution_count": 37,
   "metadata": {},
   "outputs": [
    {
     "data": {
      "text/plain": [
       "11358"
      ]
     },
     "execution_count": 37,
     "metadata": {},
     "output_type": "execute_result"
    }
   ],
   "source": [
    "tt_word_counts[1555]"
   ]
  }
 ],
 "metadata": {
  "kernelspec": {
   "display_name": "Python 3.9.13 ('base')",
   "language": "python",
   "name": "python3"
  },
  "language_info": {
   "codemirror_mode": {
    "name": "ipython",
    "version": 3
   },
   "file_extension": ".py",
   "mimetype": "text/x-python",
   "name": "python",
   "nbconvert_exporter": "python",
   "pygments_lexer": "ipython3",
   "version": "3.9.13"
  },
  "orig_nbformat": 4,
  "vscode": {
   "interpreter": {
    "hash": "5206b32b5f345ee646df70bcbe011cac435e70d5fa1022839ac50730ea7455ea"
   }
  }
 },
 "nbformat": 4,
 "nbformat_minor": 2
}
